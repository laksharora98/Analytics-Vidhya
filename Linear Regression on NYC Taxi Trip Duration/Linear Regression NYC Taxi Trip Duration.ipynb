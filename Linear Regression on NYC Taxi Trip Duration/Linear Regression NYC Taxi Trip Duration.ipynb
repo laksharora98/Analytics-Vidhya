{
 "cells": [
  {
   "cell_type": "markdown",
   "metadata": {},
   "source": [
    "## NYC Taxi Trip Duration Prediction using Linear Regression"
   ]
  },
  {
   "cell_type": "markdown",
   "metadata": {},
   "source": [
    "### Loading Packages"
   ]
  },
  {
   "cell_type": "code",
   "execution_count": 1,
   "metadata": {},
   "outputs": [],
   "source": [
    "import numpy as np\n",
    "import pandas as pd\n",
    "import seaborn as sns\n",
    "import matplotlib.pyplot as plt\n",
    "\n",
    "from sklearn.preprocessing import StandardScaler\n",
    "from sklearn.linear_model import LinearRegression, Ridge, Lasso\n",
    "from sklearn.model_selection import cross_validate, train_test_split\n",
    "from sklearn.metrics import mean_squared_error as mse, r2_score\n",
    "\n",
    "import warnings\n",
    "warnings.filterwarnings(action = 'ignore')"
   ]
  },
  {
   "cell_type": "markdown",
   "metadata": {},
   "source": [
    "### Loading Data"
   ]
  },
  {
   "cell_type": "code",
   "execution_count": 2,
   "metadata": {},
   "outputs": [],
   "source": [
    "data = pd.read_csv('nyc_taxi_trip_duration.csv')"
   ]
  },
  {
   "cell_type": "code",
   "execution_count": 3,
   "metadata": {},
   "outputs": [
    {
     "data": {
      "text/plain": [
       "(729322, 11)"
      ]
     },
     "execution_count": 3,
     "metadata": {},
     "output_type": "execute_result"
    }
   ],
   "source": [
    "data.shape"
   ]
  },
  {
   "cell_type": "code",
   "execution_count": 4,
   "metadata": {
    "scrolled": true
   },
   "outputs": [
    {
     "data": {
      "text/html": [
       "<div>\n",
       "<style scoped>\n",
       "    .dataframe tbody tr th:only-of-type {\n",
       "        vertical-align: middle;\n",
       "    }\n",
       "\n",
       "    .dataframe tbody tr th {\n",
       "        vertical-align: top;\n",
       "    }\n",
       "\n",
       "    .dataframe thead th {\n",
       "        text-align: right;\n",
       "    }\n",
       "</style>\n",
       "<table border=\"1\" class=\"dataframe\">\n",
       "  <thead>\n",
       "    <tr style=\"text-align: right;\">\n",
       "      <th></th>\n",
       "      <th>id</th>\n",
       "      <th>vendor_id</th>\n",
       "      <th>pickup_datetime</th>\n",
       "      <th>dropoff_datetime</th>\n",
       "      <th>passenger_count</th>\n",
       "      <th>pickup_longitude</th>\n",
       "      <th>pickup_latitude</th>\n",
       "      <th>dropoff_longitude</th>\n",
       "      <th>dropoff_latitude</th>\n",
       "      <th>store_and_fwd_flag</th>\n",
       "      <th>trip_duration</th>\n",
       "    </tr>\n",
       "  </thead>\n",
       "  <tbody>\n",
       "    <tr>\n",
       "      <th>0</th>\n",
       "      <td>id1080784</td>\n",
       "      <td>2</td>\n",
       "      <td>2016-02-29 16:40:21</td>\n",
       "      <td>2016-02-29 16:47:01</td>\n",
       "      <td>1</td>\n",
       "      <td>-73.953918</td>\n",
       "      <td>40.778873</td>\n",
       "      <td>-73.963875</td>\n",
       "      <td>40.771164</td>\n",
       "      <td>N</td>\n",
       "      <td>400</td>\n",
       "    </tr>\n",
       "    <tr>\n",
       "      <th>1</th>\n",
       "      <td>id0889885</td>\n",
       "      <td>1</td>\n",
       "      <td>2016-03-11 23:35:37</td>\n",
       "      <td>2016-03-11 23:53:57</td>\n",
       "      <td>2</td>\n",
       "      <td>-73.988312</td>\n",
       "      <td>40.731743</td>\n",
       "      <td>-73.994751</td>\n",
       "      <td>40.694931</td>\n",
       "      <td>N</td>\n",
       "      <td>1100</td>\n",
       "    </tr>\n",
       "    <tr>\n",
       "      <th>2</th>\n",
       "      <td>id0857912</td>\n",
       "      <td>2</td>\n",
       "      <td>2016-02-21 17:59:33</td>\n",
       "      <td>2016-02-21 18:26:48</td>\n",
       "      <td>2</td>\n",
       "      <td>-73.997314</td>\n",
       "      <td>40.721458</td>\n",
       "      <td>-73.948029</td>\n",
       "      <td>40.774918</td>\n",
       "      <td>N</td>\n",
       "      <td>1635</td>\n",
       "    </tr>\n",
       "    <tr>\n",
       "      <th>3</th>\n",
       "      <td>id3744273</td>\n",
       "      <td>2</td>\n",
       "      <td>2016-01-05 09:44:31</td>\n",
       "      <td>2016-01-05 10:03:32</td>\n",
       "      <td>6</td>\n",
       "      <td>-73.961670</td>\n",
       "      <td>40.759720</td>\n",
       "      <td>-73.956779</td>\n",
       "      <td>40.780628</td>\n",
       "      <td>N</td>\n",
       "      <td>1141</td>\n",
       "    </tr>\n",
       "    <tr>\n",
       "      <th>4</th>\n",
       "      <td>id0232939</td>\n",
       "      <td>1</td>\n",
       "      <td>2016-02-17 06:42:23</td>\n",
       "      <td>2016-02-17 06:56:31</td>\n",
       "      <td>1</td>\n",
       "      <td>-74.017120</td>\n",
       "      <td>40.708469</td>\n",
       "      <td>-73.988182</td>\n",
       "      <td>40.740631</td>\n",
       "      <td>N</td>\n",
       "      <td>848</td>\n",
       "    </tr>\n",
       "  </tbody>\n",
       "</table>\n",
       "</div>"
      ],
      "text/plain": [
       "          id  vendor_id      pickup_datetime     dropoff_datetime  \\\n",
       "0  id1080784          2  2016-02-29 16:40:21  2016-02-29 16:47:01   \n",
       "1  id0889885          1  2016-03-11 23:35:37  2016-03-11 23:53:57   \n",
       "2  id0857912          2  2016-02-21 17:59:33  2016-02-21 18:26:48   \n",
       "3  id3744273          2  2016-01-05 09:44:31  2016-01-05 10:03:32   \n",
       "4  id0232939          1  2016-02-17 06:42:23  2016-02-17 06:56:31   \n",
       "\n",
       "   passenger_count  pickup_longitude  pickup_latitude  dropoff_longitude  \\\n",
       "0                1        -73.953918        40.778873         -73.963875   \n",
       "1                2        -73.988312        40.731743         -73.994751   \n",
       "2                2        -73.997314        40.721458         -73.948029   \n",
       "3                6        -73.961670        40.759720         -73.956779   \n",
       "4                1        -74.017120        40.708469         -73.988182   \n",
       "\n",
       "   dropoff_latitude store_and_fwd_flag  trip_duration  \n",
       "0         40.771164                  N            400  \n",
       "1         40.694931                  N           1100  \n",
       "2         40.774918                  N           1635  \n",
       "3         40.780628                  N           1141  \n",
       "4         40.740631                  N            848  "
      ]
     },
     "execution_count": 4,
     "metadata": {},
     "output_type": "execute_result"
    }
   ],
   "source": [
    "data.head()"
   ]
  },
  {
   "cell_type": "code",
   "execution_count": 5,
   "metadata": {},
   "outputs": [
    {
     "data": {
      "text/plain": [
       "Index(['id', 'vendor_id', 'pickup_datetime', 'dropoff_datetime',\n",
       "       'passenger_count', 'pickup_longitude', 'pickup_latitude',\n",
       "       'dropoff_longitude', 'dropoff_latitude', 'store_and_fwd_flag',\n",
       "       'trip_duration'],\n",
       "      dtype='object')"
      ]
     },
     "execution_count": 5,
     "metadata": {},
     "output_type": "execute_result"
    }
   ],
   "source": [
    "data.columns"
   ]
  },
  {
   "cell_type": "code",
   "execution_count": 6,
   "metadata": {},
   "outputs": [],
   "source": [
    "#we can drop dropoff_datetime as it already used to calculate trip_duration\n",
    "data.drop(columns = ['dropoff_datetime'],inplace=True)"
   ]
  },
  {
   "cell_type": "code",
   "execution_count": 7,
   "metadata": {},
   "outputs": [
    {
     "data": {
      "text/plain": [
       "Index(['id', 'vendor_id', 'pickup_datetime', 'passenger_count',\n",
       "       'pickup_longitude', 'pickup_latitude', 'dropoff_longitude',\n",
       "       'dropoff_latitude', 'store_and_fwd_flag', 'trip_duration'],\n",
       "      dtype='object')"
      ]
     },
     "execution_count": 7,
     "metadata": {},
     "output_type": "execute_result"
    }
   ],
   "source": [
    "data.columns"
   ]
  },
  {
   "cell_type": "markdown",
   "metadata": {},
   "source": [
    "## Variable Identification and Typecasting\n"
   ]
  },
  {
   "cell_type": "code",
   "execution_count": 8,
   "metadata": {},
   "outputs": [
    {
     "data": {
      "text/plain": [
       "id                     object\n",
       "vendor_id               int64\n",
       "pickup_datetime        object\n",
       "passenger_count         int64\n",
       "pickup_longitude      float64\n",
       "pickup_latitude       float64\n",
       "dropoff_longitude     float64\n",
       "dropoff_latitude      float64\n",
       "store_and_fwd_flag     object\n",
       "trip_duration           int64\n",
       "dtype: object"
      ]
     },
     "execution_count": 8,
     "metadata": {},
     "output_type": "execute_result"
    }
   ],
   "source": [
    "# A closer look at the data types present in the data\n",
    "data.dtypes"
   ]
  },
  {
   "cell_type": "markdown",
   "metadata": {},
   "source": [
    "* **id**, **vendor_id**, **passenger_count** and **store_and_fwd_flag** should be converted to category\n",
    "* **pickup_datetime** should be converted to datetime to extract more variables\n"
   ]
  },
  {
   "cell_type": "code",
   "execution_count": 9,
   "metadata": {},
   "outputs": [],
   "source": [
    "# converting to category\n",
    "data['id'] = data['id'].astype('category')\n",
    "data['vendor_id'] = data['vendor_id'].astype('category')\n",
    "data['store_and_fwd_flag'] = data['store_and_fwd_flag'].astype('category')"
   ]
  },
  {
   "cell_type": "code",
   "execution_count": 10,
   "metadata": {},
   "outputs": [],
   "source": [
    "data['passenger_count'] = data['passenger_count'].astype('category')"
   ]
  },
  {
   "cell_type": "markdown",
   "metadata": {},
   "source": [
    "## New Features\n",
    "* **Pickup Day of week**\n",
    "* **Pickup Month**\n",
    "* **Pickup Hour**\n",
    "* **Pickup Part of Day**\n",
    "* **Distance (in km)**\n",
    "* **Average speed (in kmph)**"
   ]
  },
  {
   "cell_type": "code",
   "execution_count": 11,
   "metadata": {},
   "outputs": [],
   "source": [
    "data['pickup_datetime'] = pd.to_datetime(data['pickup_datetime'])\n",
    "data['pickup_dayofweek'] = data['pickup_datetime'].dt.dayofweek\n",
    "data['pickup_month'] = data['pickup_datetime'].dt.month\n",
    "data['pickup_hour'] = data['pickup_datetime'].dt.hour\n",
    "\n",
    "def partofday(hour):\n",
    "    if hour in range (7,12):\n",
    "        return \"Morning\"\n",
    "    elif hour in range (12,17):\n",
    "        return \"Afternoon\"\n",
    "    elif hour in range (17,22):\n",
    "        return \"Evening\"\n",
    "    else:\n",
    "        return \"Night\"\n",
    "\n",
    "#adding pickup_partofday to new column\n",
    "data['pickup_partofday'] = data.apply(lambda x : partofday(x['pickup_hour']),axis = 1)\n",
    "\n",
    "# calculating distance from latitudes and longitudes\n",
    "# We can approximate by using distance as the crow flies for now\n",
    "\n",
    "import geopy.distance\n",
    "\n",
    "def distance(lat1,long1,lat2,long2):\n",
    "    coord1 = (lat1,long1) \n",
    "    coord2 = (lat2,long2)\n",
    "\n",
    "\n",
    "    result = geopy.distance.geodesic(coord1, coord2).km\n",
    "    return result\n",
    "\n",
    "#adding distance(in km) to new column\n",
    "data['distance'] = data.apply(lambda x : distance(x['pickup_latitude'],x['pickup_longitude'],x['dropoff_latitude'],x['dropoff_longitude']),axis = 1)"
   ]
  },
  {
   "cell_type": "code",
   "execution_count": 12,
   "metadata": {},
   "outputs": [],
   "source": [
    "#adding average speed (in kmph) to new column\n",
    "data['speed'] = data.apply(lambda x : x['distance']/(x['trip_duration']/3600),axis = 1)"
   ]
  },
  {
   "cell_type": "code",
   "execution_count": 13,
   "metadata": {},
   "outputs": [
    {
     "data": {
      "text/html": [
       "<div>\n",
       "<style scoped>\n",
       "    .dataframe tbody tr th:only-of-type {\n",
       "        vertical-align: middle;\n",
       "    }\n",
       "\n",
       "    .dataframe tbody tr th {\n",
       "        vertical-align: top;\n",
       "    }\n",
       "\n",
       "    .dataframe thead th {\n",
       "        text-align: right;\n",
       "    }\n",
       "</style>\n",
       "<table border=\"1\" class=\"dataframe\">\n",
       "  <thead>\n",
       "    <tr style=\"text-align: right;\">\n",
       "      <th></th>\n",
       "      <th>pickup_datetime</th>\n",
       "      <th>pickup_dayofweek</th>\n",
       "      <th>pickup_month</th>\n",
       "      <th>pickup_hour</th>\n",
       "      <th>pickup_partofday</th>\n",
       "      <th>distance</th>\n",
       "      <th>trip_duration</th>\n",
       "      <th>speed</th>\n",
       "    </tr>\n",
       "  </thead>\n",
       "  <tbody>\n",
       "    <tr>\n",
       "      <th>0</th>\n",
       "      <td>2016-02-29 16:40:21</td>\n",
       "      <td>0</td>\n",
       "      <td>2</td>\n",
       "      <td>16</td>\n",
       "      <td>Afternoon</td>\n",
       "      <td>1.199770</td>\n",
       "      <td>400</td>\n",
       "      <td>10.797929</td>\n",
       "    </tr>\n",
       "    <tr>\n",
       "      <th>1</th>\n",
       "      <td>2016-03-11 23:35:37</td>\n",
       "      <td>4</td>\n",
       "      <td>3</td>\n",
       "      <td>23</td>\n",
       "      <td>Night</td>\n",
       "      <td>4.123945</td>\n",
       "      <td>1100</td>\n",
       "      <td>13.496548</td>\n",
       "    </tr>\n",
       "    <tr>\n",
       "      <th>2</th>\n",
       "      <td>2016-02-21 17:59:33</td>\n",
       "      <td>6</td>\n",
       "      <td>2</td>\n",
       "      <td>17</td>\n",
       "      <td>Evening</td>\n",
       "      <td>7.250436</td>\n",
       "      <td>1635</td>\n",
       "      <td>15.964262</td>\n",
       "    </tr>\n",
       "    <tr>\n",
       "      <th>3</th>\n",
       "      <td>2016-01-05 09:44:31</td>\n",
       "      <td>1</td>\n",
       "      <td>1</td>\n",
       "      <td>9</td>\n",
       "      <td>Morning</td>\n",
       "      <td>2.358287</td>\n",
       "      <td>1141</td>\n",
       "      <td>7.440694</td>\n",
       "    </tr>\n",
       "    <tr>\n",
       "      <th>4</th>\n",
       "      <td>2016-02-17 06:42:23</td>\n",
       "      <td>2</td>\n",
       "      <td>2</td>\n",
       "      <td>6</td>\n",
       "      <td>Night</td>\n",
       "      <td>4.328155</td>\n",
       "      <td>848</td>\n",
       "      <td>18.374244</td>\n",
       "    </tr>\n",
       "  </tbody>\n",
       "</table>\n",
       "</div>"
      ],
      "text/plain": [
       "      pickup_datetime  pickup_dayofweek  pickup_month  pickup_hour  \\\n",
       "0 2016-02-29 16:40:21                 0             2           16   \n",
       "1 2016-03-11 23:35:37                 4             3           23   \n",
       "2 2016-02-21 17:59:33                 6             2           17   \n",
       "3 2016-01-05 09:44:31                 1             1            9   \n",
       "4 2016-02-17 06:42:23                 2             2            6   \n",
       "\n",
       "  pickup_partofday  distance  trip_duration      speed  \n",
       "0        Afternoon  1.199770            400  10.797929  \n",
       "1            Night  4.123945           1100  13.496548  \n",
       "2          Evening  7.250436           1635  15.964262  \n",
       "3          Morning  2.358287           1141   7.440694  \n",
       "4            Night  4.328155            848  18.374244  "
      ]
     },
     "execution_count": 13,
     "metadata": {},
     "output_type": "execute_result"
    }
   ],
   "source": [
    "# checking new extracted columns using datetime and coordinates\n",
    "data[['pickup_datetime','pickup_dayofweek','pickup_month','pickup_hour','pickup_partofday','distance','trip_duration','speed']].head()"
   ]
  },
  {
   "cell_type": "code",
   "execution_count": 14,
   "metadata": {},
   "outputs": [
    {
     "data": {
      "text/plain": [
       "id                    category\n",
       "vendor_id             category\n",
       "passenger_count       category\n",
       "pickup_longitude       float64\n",
       "pickup_latitude        float64\n",
       "dropoff_longitude      float64\n",
       "dropoff_latitude       float64\n",
       "store_and_fwd_flag    category\n",
       "trip_duration            int64\n",
       "pickup_dayofweek         int64\n",
       "pickup_month             int64\n",
       "pickup_hour              int64\n",
       "pickup_partofday        object\n",
       "distance               float64\n",
       "speed                  float64\n",
       "dtype: object"
      ]
     },
     "execution_count": 14,
     "metadata": {},
     "output_type": "execute_result"
    }
   ],
   "source": [
    "#we can drop pickup_datetime now as we have extracted everything we need\n",
    "data.drop(columns = ['pickup_datetime'],inplace=True)\n",
    "data.dtypes"
   ]
  },
  {
   "cell_type": "code",
   "execution_count": 15,
   "metadata": {},
   "outputs": [
    {
     "data": {
      "text/plain": [
       "id                    category\n",
       "vendor_id             category\n",
       "passenger_count       category\n",
       "pickup_longitude       float64\n",
       "pickup_latitude        float64\n",
       "dropoff_longitude      float64\n",
       "dropoff_latitude       float64\n",
       "store_and_fwd_flag    category\n",
       "trip_duration            int64\n",
       "pickup_dayofweek      category\n",
       "pickup_month          category\n",
       "pickup_hour           category\n",
       "pickup_partofday      category\n",
       "distance               float64\n",
       "speed                  float64\n",
       "dtype: object"
      ]
     },
     "execution_count": 15,
     "metadata": {},
     "output_type": "execute_result"
    }
   ],
   "source": [
    "data['pickup_partofday'] = data['pickup_partofday'].astype('category')\n",
    "data['pickup_dayofweek'] = data['pickup_dayofweek'].astype('category')\n",
    "data['pickup_month'] = data['pickup_month'].astype('category')\n",
    "data['pickup_hour'] = data['pickup_hour'].astype('category')\n",
    "data.dtypes"
   ]
  },
  {
   "cell_type": "markdown",
   "metadata": {},
   "source": [
    "### Missing Values"
   ]
  },
  {
   "cell_type": "code",
   "execution_count": 16,
   "metadata": {},
   "outputs": [
    {
     "data": {
      "text/plain": [
       "id                    0\n",
       "vendor_id             0\n",
       "passenger_count       0\n",
       "pickup_longitude      0\n",
       "pickup_latitude       0\n",
       "dropoff_longitude     0\n",
       "dropoff_latitude      0\n",
       "store_and_fwd_flag    0\n",
       "trip_duration         0\n",
       "pickup_dayofweek      0\n",
       "pickup_month          0\n",
       "pickup_hour           0\n",
       "pickup_partofday      0\n",
       "distance              0\n",
       "speed                 0\n",
       "dtype: int64"
      ]
     },
     "execution_count": 16,
     "metadata": {},
     "output_type": "execute_result"
    }
   ],
   "source": [
    "data.isnull().sum()"
   ]
  },
  {
   "cell_type": "markdown",
   "metadata": {},
   "source": [
    "No missing values!"
   ]
  },
  {
   "cell_type": "markdown",
   "metadata": {},
   "source": [
    "## Removing Outliers"
   ]
  },
  {
   "cell_type": "code",
   "execution_count": 17,
   "metadata": {},
   "outputs": [],
   "source": [
    "# remove the longitude -121 as it is on the complete opposite coast.\n",
    "data.drop(421819, inplace = True)"
   ]
  },
  {
   "cell_type": "code",
   "execution_count": 18,
   "metadata": {},
   "outputs": [],
   "source": [
    "data.drop(244913,inplace=True);"
   ]
  },
  {
   "cell_type": "code",
   "execution_count": 19,
   "metadata": {},
   "outputs": [],
   "source": [
    "data.drop(data.loc[data.speed>200].index,inplace=True);\n",
    "data.drop(data.loc[(data.passenger_count==0)|(data.passenger_count==7)|(data.passenger_count==9)].index,inplace=True)\n",
    "data.passenger_count = data.passenger_count.astype('int64')\n",
    "data.passenger_count = data.passenger_count.astype('category')"
   ]
  },
  {
   "cell_type": "code",
   "execution_count": 20,
   "metadata": {},
   "outputs": [
    {
     "data": {
      "text/plain": [
       "id                    category\n",
       "vendor_id             category\n",
       "passenger_count       category\n",
       "pickup_longitude       float64\n",
       "pickup_latitude        float64\n",
       "dropoff_longitude      float64\n",
       "dropoff_latitude       float64\n",
       "store_and_fwd_flag    category\n",
       "trip_duration            int64\n",
       "pickup_dayofweek      category\n",
       "pickup_month          category\n",
       "pickup_hour           category\n",
       "pickup_partofday      category\n",
       "distance               float64\n",
       "speed                  float64\n",
       "dtype: object"
      ]
     },
     "execution_count": 20,
     "metadata": {},
     "output_type": "execute_result"
    }
   ],
   "source": [
    "data.dtypes"
   ]
  },
  {
   "cell_type": "code",
   "execution_count": 21,
   "metadata": {},
   "outputs": [],
   "source": [
    "# Let's drop id and speed as these are not useful going forward\n",
    "data.drop(columns = ['id','speed','pickup_partofday'], inplace = True)"
   ]
  },
  {
   "cell_type": "markdown",
   "metadata": {},
   "source": [
    "### Preprocessing\n",
    "\n",
    "Now, before applying linear model such as linear regression, we need to scale the data and keep all features as numeric strictly. \n"
   ]
  },
  {
   "cell_type": "markdown",
   "metadata": {},
   "source": [
    "### Dummies with Multiple Categories"
   ]
  },
  {
   "cell_type": "code",
   "execution_count": 22,
   "metadata": {},
   "outputs": [],
   "source": [
    "# Convert categorical variables to one hot encoded features\n",
    "data = pd.get_dummies(data, drop_first = True)"
   ]
  },
  {
   "cell_type": "code",
   "execution_count": 23,
   "metadata": {},
   "outputs": [
    {
     "data": {
      "text/html": [
       "<div>\n",
       "<style scoped>\n",
       "    .dataframe tbody tr th:only-of-type {\n",
       "        vertical-align: middle;\n",
       "    }\n",
       "\n",
       "    .dataframe tbody tr th {\n",
       "        vertical-align: top;\n",
       "    }\n",
       "\n",
       "    .dataframe thead th {\n",
       "        text-align: right;\n",
       "    }\n",
       "</style>\n",
       "<table border=\"1\" class=\"dataframe\">\n",
       "  <thead>\n",
       "    <tr style=\"text-align: right;\">\n",
       "      <th></th>\n",
       "      <th>pickup_longitude</th>\n",
       "      <th>pickup_latitude</th>\n",
       "      <th>dropoff_longitude</th>\n",
       "      <th>dropoff_latitude</th>\n",
       "      <th>trip_duration</th>\n",
       "      <th>distance</th>\n",
       "      <th>vendor_id_2</th>\n",
       "      <th>passenger_count_2</th>\n",
       "      <th>passenger_count_3</th>\n",
       "      <th>passenger_count_4</th>\n",
       "      <th>...</th>\n",
       "      <th>pickup_hour_14</th>\n",
       "      <th>pickup_hour_15</th>\n",
       "      <th>pickup_hour_16</th>\n",
       "      <th>pickup_hour_17</th>\n",
       "      <th>pickup_hour_18</th>\n",
       "      <th>pickup_hour_19</th>\n",
       "      <th>pickup_hour_20</th>\n",
       "      <th>pickup_hour_21</th>\n",
       "      <th>pickup_hour_22</th>\n",
       "      <th>pickup_hour_23</th>\n",
       "    </tr>\n",
       "  </thead>\n",
       "  <tbody>\n",
       "    <tr>\n",
       "      <th>0</th>\n",
       "      <td>-73.953918</td>\n",
       "      <td>40.778873</td>\n",
       "      <td>-73.963875</td>\n",
       "      <td>40.771164</td>\n",
       "      <td>400</td>\n",
       "      <td>1.199770</td>\n",
       "      <td>1</td>\n",
       "      <td>0</td>\n",
       "      <td>0</td>\n",
       "      <td>0</td>\n",
       "      <td>...</td>\n",
       "      <td>0</td>\n",
       "      <td>0</td>\n",
       "      <td>1</td>\n",
       "      <td>0</td>\n",
       "      <td>0</td>\n",
       "      <td>0</td>\n",
       "      <td>0</td>\n",
       "      <td>0</td>\n",
       "      <td>0</td>\n",
       "      <td>0</td>\n",
       "    </tr>\n",
       "    <tr>\n",
       "      <th>1</th>\n",
       "      <td>-73.988312</td>\n",
       "      <td>40.731743</td>\n",
       "      <td>-73.994751</td>\n",
       "      <td>40.694931</td>\n",
       "      <td>1100</td>\n",
       "      <td>4.123945</td>\n",
       "      <td>0</td>\n",
       "      <td>1</td>\n",
       "      <td>0</td>\n",
       "      <td>0</td>\n",
       "      <td>...</td>\n",
       "      <td>0</td>\n",
       "      <td>0</td>\n",
       "      <td>0</td>\n",
       "      <td>0</td>\n",
       "      <td>0</td>\n",
       "      <td>0</td>\n",
       "      <td>0</td>\n",
       "      <td>0</td>\n",
       "      <td>0</td>\n",
       "      <td>1</td>\n",
       "    </tr>\n",
       "    <tr>\n",
       "      <th>2</th>\n",
       "      <td>-73.997314</td>\n",
       "      <td>40.721458</td>\n",
       "      <td>-73.948029</td>\n",
       "      <td>40.774918</td>\n",
       "      <td>1635</td>\n",
       "      <td>7.250436</td>\n",
       "      <td>1</td>\n",
       "      <td>1</td>\n",
       "      <td>0</td>\n",
       "      <td>0</td>\n",
       "      <td>...</td>\n",
       "      <td>0</td>\n",
       "      <td>0</td>\n",
       "      <td>0</td>\n",
       "      <td>1</td>\n",
       "      <td>0</td>\n",
       "      <td>0</td>\n",
       "      <td>0</td>\n",
       "      <td>0</td>\n",
       "      <td>0</td>\n",
       "      <td>0</td>\n",
       "    </tr>\n",
       "    <tr>\n",
       "      <th>3</th>\n",
       "      <td>-73.961670</td>\n",
       "      <td>40.759720</td>\n",
       "      <td>-73.956779</td>\n",
       "      <td>40.780628</td>\n",
       "      <td>1141</td>\n",
       "      <td>2.358287</td>\n",
       "      <td>1</td>\n",
       "      <td>0</td>\n",
       "      <td>0</td>\n",
       "      <td>0</td>\n",
       "      <td>...</td>\n",
       "      <td>0</td>\n",
       "      <td>0</td>\n",
       "      <td>0</td>\n",
       "      <td>0</td>\n",
       "      <td>0</td>\n",
       "      <td>0</td>\n",
       "      <td>0</td>\n",
       "      <td>0</td>\n",
       "      <td>0</td>\n",
       "      <td>0</td>\n",
       "    </tr>\n",
       "    <tr>\n",
       "      <th>4</th>\n",
       "      <td>-74.017120</td>\n",
       "      <td>40.708469</td>\n",
       "      <td>-73.988182</td>\n",
       "      <td>40.740631</td>\n",
       "      <td>848</td>\n",
       "      <td>4.328155</td>\n",
       "      <td>0</td>\n",
       "      <td>0</td>\n",
       "      <td>0</td>\n",
       "      <td>0</td>\n",
       "      <td>...</td>\n",
       "      <td>0</td>\n",
       "      <td>0</td>\n",
       "      <td>0</td>\n",
       "      <td>0</td>\n",
       "      <td>0</td>\n",
       "      <td>0</td>\n",
       "      <td>0</td>\n",
       "      <td>0</td>\n",
       "      <td>0</td>\n",
       "      <td>0</td>\n",
       "    </tr>\n",
       "  </tbody>\n",
       "</table>\n",
       "<p>5 rows × 47 columns</p>\n",
       "</div>"
      ],
      "text/plain": [
       "   pickup_longitude  pickup_latitude  dropoff_longitude  dropoff_latitude  \\\n",
       "0        -73.953918        40.778873         -73.963875         40.771164   \n",
       "1        -73.988312        40.731743         -73.994751         40.694931   \n",
       "2        -73.997314        40.721458         -73.948029         40.774918   \n",
       "3        -73.961670        40.759720         -73.956779         40.780628   \n",
       "4        -74.017120        40.708469         -73.988182         40.740631   \n",
       "\n",
       "   trip_duration  distance  vendor_id_2  passenger_count_2  passenger_count_3  \\\n",
       "0            400  1.199770            1                  0                  0   \n",
       "1           1100  4.123945            0                  1                  0   \n",
       "2           1635  7.250436            1                  1                  0   \n",
       "3           1141  2.358287            1                  0                  0   \n",
       "4            848  4.328155            0                  0                  0   \n",
       "\n",
       "   passenger_count_4  ...  pickup_hour_14  pickup_hour_15  pickup_hour_16  \\\n",
       "0                  0  ...               0               0               1   \n",
       "1                  0  ...               0               0               0   \n",
       "2                  0  ...               0               0               0   \n",
       "3                  0  ...               0               0               0   \n",
       "4                  0  ...               0               0               0   \n",
       "\n",
       "   pickup_hour_17  pickup_hour_18  pickup_hour_19  pickup_hour_20  \\\n",
       "0               0               0               0               0   \n",
       "1               0               0               0               0   \n",
       "2               1               0               0               0   \n",
       "3               0               0               0               0   \n",
       "4               0               0               0               0   \n",
       "\n",
       "   pickup_hour_21  pickup_hour_22  pickup_hour_23  \n",
       "0               0               0               0  \n",
       "1               0               0               1  \n",
       "2               0               0               0  \n",
       "3               0               0               0  \n",
       "4               0               0               0  \n",
       "\n",
       "[5 rows x 47 columns]"
      ]
     },
     "execution_count": 23,
     "metadata": {},
     "output_type": "execute_result"
    }
   ],
   "source": [
    "data.head()"
   ]
  },
  {
   "cell_type": "markdown",
   "metadata": {},
   "source": [
    "### Scaling Numerical Features for Linear Regression\n",
    "\n",
    "Now, we remember that there are a lot of outliers in the numerical variables. Also, the distributions are skewed for these features. We will take 2 steps to deal with that here:\n",
    "* Log Transformation\n",
    "* Standard Scaler\n",
    "\n",
    "Standard scaling is anyways a necessity when it comes to linear models and we have done that here after doing log transformation on all balance features."
   ]
  },
  {
   "cell_type": "code",
   "execution_count": 24,
   "metadata": {},
   "outputs": [],
   "source": [
    "num_cols = ['pickup_latitude','pickup_longitude','dropoff_latitude',\n",
    "           'dropoff_longitude','distance','trip_duration']"
   ]
  },
  {
   "cell_type": "code",
   "execution_count": 25,
   "metadata": {
    "scrolled": true
   },
   "outputs": [
    {
     "data": {
      "text/plain": [
       "pickup_latitude      35.310307\n",
       "pickup_longitude    -77.896019\n",
       "dropoff_latitude     35.173546\n",
       "dropoff_longitude   -77.896019\n",
       "distance              0.000000\n",
       "trip_duration         1.000000\n",
       "dtype: float64"
      ]
     },
     "execution_count": 25,
     "metadata": {},
     "output_type": "execute_result"
    }
   ],
   "source": [
    "data[num_cols].min()"
   ]
  },
  {
   "cell_type": "code",
   "execution_count": 26,
   "metadata": {},
   "outputs": [],
   "source": [
    "for i in num_cols:\n",
    "    data[i] = np.log(data[i] + 100)\n",
    "\n",
    "std = StandardScaler()\n",
    "scaled = std.fit_transform(data[num_cols])\n",
    "scaled = pd.DataFrame(scaled,columns=num_cols)"
   ]
  },
  {
   "cell_type": "code",
   "execution_count": 27,
   "metadata": {},
   "outputs": [],
   "source": [
    "data_og = data.copy()\n",
    "data = data.drop(columns = num_cols)"
   ]
  },
  {
   "cell_type": "code",
   "execution_count": 28,
   "metadata": {},
   "outputs": [
    {
     "data": {
      "text/html": [
       "<div>\n",
       "<style scoped>\n",
       "    .dataframe tbody tr th:only-of-type {\n",
       "        vertical-align: middle;\n",
       "    }\n",
       "\n",
       "    .dataframe tbody tr th {\n",
       "        vertical-align: top;\n",
       "    }\n",
       "\n",
       "    .dataframe thead th {\n",
       "        text-align: right;\n",
       "    }\n",
       "</style>\n",
       "<table border=\"1\" class=\"dataframe\">\n",
       "  <thead>\n",
       "    <tr style=\"text-align: right;\">\n",
       "      <th></th>\n",
       "      <th>pickup_latitude</th>\n",
       "      <th>pickup_longitude</th>\n",
       "      <th>dropoff_latitude</th>\n",
       "      <th>dropoff_longitude</th>\n",
       "      <th>distance</th>\n",
       "      <th>trip_duration</th>\n",
       "    </tr>\n",
       "  </thead>\n",
       "  <tbody>\n",
       "    <tr>\n",
       "      <th>0</th>\n",
       "      <td>0.935278</td>\n",
       "      <td>0.487163</td>\n",
       "      <td>0.570864</td>\n",
       "      <td>0.248150</td>\n",
       "      <td>-0.584842</td>\n",
       "      <td>-0.667868</td>\n",
       "    </tr>\n",
       "    <tr>\n",
       "      <th>1</th>\n",
       "      <td>-0.641392</td>\n",
       "      <td>-0.370153</td>\n",
       "      <td>-1.675930</td>\n",
       "      <td>-0.560638</td>\n",
       "      <td>0.201233</td>\n",
       "      <td>0.675984</td>\n",
       "    </tr>\n",
       "    <tr>\n",
       "      <th>2</th>\n",
       "      <td>-0.985509</td>\n",
       "      <td>-0.594749</td>\n",
       "      <td>0.681464</td>\n",
       "      <td>0.662863</td>\n",
       "      <td>1.017641</td>\n",
       "      <td>1.241920</td>\n",
       "    </tr>\n",
       "    <tr>\n",
       "      <th>3</th>\n",
       "      <td>0.294592</td>\n",
       "      <td>0.294042</td>\n",
       "      <td>0.849717</td>\n",
       "      <td>0.433873</td>\n",
       "      <td>-0.270727</td>\n",
       "      <td>0.727554</td>\n",
       "    </tr>\n",
       "    <tr>\n",
       "      <th>4</th>\n",
       "      <td>-1.420159</td>\n",
       "      <td>-1.089134</td>\n",
       "      <td>-0.328877</td>\n",
       "      <td>-0.388488</td>\n",
       "      <td>0.255302</td>\n",
       "      <td>0.314149</td>\n",
       "    </tr>\n",
       "  </tbody>\n",
       "</table>\n",
       "</div>"
      ],
      "text/plain": [
       "   pickup_latitude  pickup_longitude  dropoff_latitude  dropoff_longitude  \\\n",
       "0         0.935278          0.487163          0.570864           0.248150   \n",
       "1        -0.641392         -0.370153         -1.675930          -0.560638   \n",
       "2        -0.985509         -0.594749          0.681464           0.662863   \n",
       "3         0.294592          0.294042          0.849717           0.433873   \n",
       "4        -1.420159         -1.089134         -0.328877          -0.388488   \n",
       "\n",
       "   distance  trip_duration  \n",
       "0 -0.584842      -0.667868  \n",
       "1  0.201233       0.675984  \n",
       "2  1.017641       1.241920  \n",
       "3 -0.270727       0.727554  \n",
       "4  0.255302       0.314149  "
      ]
     },
     "execution_count": 28,
     "metadata": {},
     "output_type": "execute_result"
    }
   ],
   "source": [
    "scaled.head()"
   ]
  },
  {
   "cell_type": "code",
   "execution_count": 29,
   "metadata": {},
   "outputs": [
    {
     "data": {
      "text/html": [
       "<div>\n",
       "<style scoped>\n",
       "    .dataframe tbody tr th:only-of-type {\n",
       "        vertical-align: middle;\n",
       "    }\n",
       "\n",
       "    .dataframe tbody tr th {\n",
       "        vertical-align: top;\n",
       "    }\n",
       "\n",
       "    .dataframe thead th {\n",
       "        text-align: right;\n",
       "    }\n",
       "</style>\n",
       "<table border=\"1\" class=\"dataframe\">\n",
       "  <thead>\n",
       "    <tr style=\"text-align: right;\">\n",
       "      <th></th>\n",
       "      <th>vendor_id_2</th>\n",
       "      <th>passenger_count_2</th>\n",
       "      <th>passenger_count_3</th>\n",
       "      <th>passenger_count_4</th>\n",
       "      <th>passenger_count_5</th>\n",
       "      <th>passenger_count_6</th>\n",
       "      <th>store_and_fwd_flag_Y</th>\n",
       "      <th>pickup_dayofweek_1</th>\n",
       "      <th>pickup_dayofweek_2</th>\n",
       "      <th>pickup_dayofweek_3</th>\n",
       "      <th>...</th>\n",
       "      <th>pickup_hour_14</th>\n",
       "      <th>pickup_hour_15</th>\n",
       "      <th>pickup_hour_16</th>\n",
       "      <th>pickup_hour_17</th>\n",
       "      <th>pickup_hour_18</th>\n",
       "      <th>pickup_hour_19</th>\n",
       "      <th>pickup_hour_20</th>\n",
       "      <th>pickup_hour_21</th>\n",
       "      <th>pickup_hour_22</th>\n",
       "      <th>pickup_hour_23</th>\n",
       "    </tr>\n",
       "  </thead>\n",
       "  <tbody>\n",
       "    <tr>\n",
       "      <th>0</th>\n",
       "      <td>1</td>\n",
       "      <td>0</td>\n",
       "      <td>0</td>\n",
       "      <td>0</td>\n",
       "      <td>0</td>\n",
       "      <td>0</td>\n",
       "      <td>0</td>\n",
       "      <td>0</td>\n",
       "      <td>0</td>\n",
       "      <td>0</td>\n",
       "      <td>...</td>\n",
       "      <td>0</td>\n",
       "      <td>0</td>\n",
       "      <td>1</td>\n",
       "      <td>0</td>\n",
       "      <td>0</td>\n",
       "      <td>0</td>\n",
       "      <td>0</td>\n",
       "      <td>0</td>\n",
       "      <td>0</td>\n",
       "      <td>0</td>\n",
       "    </tr>\n",
       "    <tr>\n",
       "      <th>1</th>\n",
       "      <td>0</td>\n",
       "      <td>1</td>\n",
       "      <td>0</td>\n",
       "      <td>0</td>\n",
       "      <td>0</td>\n",
       "      <td>0</td>\n",
       "      <td>0</td>\n",
       "      <td>0</td>\n",
       "      <td>0</td>\n",
       "      <td>0</td>\n",
       "      <td>...</td>\n",
       "      <td>0</td>\n",
       "      <td>0</td>\n",
       "      <td>0</td>\n",
       "      <td>0</td>\n",
       "      <td>0</td>\n",
       "      <td>0</td>\n",
       "      <td>0</td>\n",
       "      <td>0</td>\n",
       "      <td>0</td>\n",
       "      <td>1</td>\n",
       "    </tr>\n",
       "    <tr>\n",
       "      <th>2</th>\n",
       "      <td>1</td>\n",
       "      <td>1</td>\n",
       "      <td>0</td>\n",
       "      <td>0</td>\n",
       "      <td>0</td>\n",
       "      <td>0</td>\n",
       "      <td>0</td>\n",
       "      <td>0</td>\n",
       "      <td>0</td>\n",
       "      <td>0</td>\n",
       "      <td>...</td>\n",
       "      <td>0</td>\n",
       "      <td>0</td>\n",
       "      <td>0</td>\n",
       "      <td>1</td>\n",
       "      <td>0</td>\n",
       "      <td>0</td>\n",
       "      <td>0</td>\n",
       "      <td>0</td>\n",
       "      <td>0</td>\n",
       "      <td>0</td>\n",
       "    </tr>\n",
       "    <tr>\n",
       "      <th>3</th>\n",
       "      <td>1</td>\n",
       "      <td>0</td>\n",
       "      <td>0</td>\n",
       "      <td>0</td>\n",
       "      <td>0</td>\n",
       "      <td>1</td>\n",
       "      <td>0</td>\n",
       "      <td>1</td>\n",
       "      <td>0</td>\n",
       "      <td>0</td>\n",
       "      <td>...</td>\n",
       "      <td>0</td>\n",
       "      <td>0</td>\n",
       "      <td>0</td>\n",
       "      <td>0</td>\n",
       "      <td>0</td>\n",
       "      <td>0</td>\n",
       "      <td>0</td>\n",
       "      <td>0</td>\n",
       "      <td>0</td>\n",
       "      <td>0</td>\n",
       "    </tr>\n",
       "    <tr>\n",
       "      <th>4</th>\n",
       "      <td>0</td>\n",
       "      <td>0</td>\n",
       "      <td>0</td>\n",
       "      <td>0</td>\n",
       "      <td>0</td>\n",
       "      <td>0</td>\n",
       "      <td>0</td>\n",
       "      <td>0</td>\n",
       "      <td>1</td>\n",
       "      <td>0</td>\n",
       "      <td>...</td>\n",
       "      <td>0</td>\n",
       "      <td>0</td>\n",
       "      <td>0</td>\n",
       "      <td>0</td>\n",
       "      <td>0</td>\n",
       "      <td>0</td>\n",
       "      <td>0</td>\n",
       "      <td>0</td>\n",
       "      <td>0</td>\n",
       "      <td>0</td>\n",
       "    </tr>\n",
       "  </tbody>\n",
       "</table>\n",
       "<p>5 rows × 41 columns</p>\n",
       "</div>"
      ],
      "text/plain": [
       "   vendor_id_2  passenger_count_2  passenger_count_3  passenger_count_4  \\\n",
       "0            1                  0                  0                  0   \n",
       "1            0                  1                  0                  0   \n",
       "2            1                  1                  0                  0   \n",
       "3            1                  0                  0                  0   \n",
       "4            0                  0                  0                  0   \n",
       "\n",
       "   passenger_count_5  passenger_count_6  store_and_fwd_flag_Y  \\\n",
       "0                  0                  0                     0   \n",
       "1                  0                  0                     0   \n",
       "2                  0                  0                     0   \n",
       "3                  0                  1                     0   \n",
       "4                  0                  0                     0   \n",
       "\n",
       "   pickup_dayofweek_1  pickup_dayofweek_2  pickup_dayofweek_3  ...  \\\n",
       "0                   0                   0                   0  ...   \n",
       "1                   0                   0                   0  ...   \n",
       "2                   0                   0                   0  ...   \n",
       "3                   1                   0                   0  ...   \n",
       "4                   0                   1                   0  ...   \n",
       "\n",
       "   pickup_hour_14  pickup_hour_15  pickup_hour_16  pickup_hour_17  \\\n",
       "0               0               0               1               0   \n",
       "1               0               0               0               0   \n",
       "2               0               0               0               1   \n",
       "3               0               0               0               0   \n",
       "4               0               0               0               0   \n",
       "\n",
       "   pickup_hour_18  pickup_hour_19  pickup_hour_20  pickup_hour_21  \\\n",
       "0               0               0               0               0   \n",
       "1               0               0               0               0   \n",
       "2               0               0               0               0   \n",
       "3               0               0               0               0   \n",
       "4               0               0               0               0   \n",
       "\n",
       "   pickup_hour_22  pickup_hour_23  \n",
       "0               0               0  \n",
       "1               0               1  \n",
       "2               0               0  \n",
       "3               0               0  \n",
       "4               0               0  \n",
       "\n",
       "[5 rows x 41 columns]"
      ]
     },
     "execution_count": 29,
     "metadata": {},
     "output_type": "execute_result"
    }
   ],
   "source": [
    "data.head()"
   ]
  },
  {
   "cell_type": "code",
   "execution_count": 30,
   "metadata": {},
   "outputs": [],
   "source": [
    "data = pd.concat([data,scaled], axis=1)"
   ]
  },
  {
   "cell_type": "code",
   "execution_count": 33,
   "metadata": {},
   "outputs": [],
   "source": [
    "data.drop(data.loc[data['vendor_id_2'].isna()].index, inplace = True)"
   ]
  },
  {
   "cell_type": "code",
   "execution_count": 34,
   "metadata": {},
   "outputs": [],
   "source": [
    "data.drop(data.loc[data['distance'].isna()].index, inplace = True)"
   ]
  },
  {
   "cell_type": "code",
   "execution_count": 36,
   "metadata": {},
   "outputs": [],
   "source": [
    "data_y = data['trip_duration']\n",
    "data_x = data.drop(columns = 'trip_duration')"
   ]
  },
  {
   "cell_type": "markdown",
   "metadata": {},
   "source": [
    "## Model Building and Evaluation Metrics\n",
    "We will be using two metrics\n",
    "1. Mean Squared Error\n",
    "2. Adjusted R2"
   ]
  },
  {
   "cell_type": "markdown",
   "metadata": {},
   "source": [
    "### Train Test Split to create a validation set"
   ]
  },
  {
   "cell_type": "code",
   "execution_count": 37,
   "metadata": {},
   "outputs": [],
   "source": [
    "# Splitting the data into Train and Validation set\n",
    "xtrain, xtest, ytrain, ytest = train_test_split(data_x,data_y,test_size=0.2, random_state=69)"
   ]
  },
  {
   "cell_type": "markdown",
   "metadata": {},
   "source": [
    "## Baseline model"
   ]
  },
  {
   "cell_type": "code",
   "execution_count": 38,
   "metadata": {},
   "outputs": [],
   "source": [
    "baseline_mean = ytrain.mean()\n",
    "base_predict = pd.Series([baseline_mean for x in range(len(ytest.index))])"
   ]
  },
  {
   "cell_type": "code",
   "execution_count": 39,
   "metadata": {},
   "outputs": [
    {
     "data": {
      "text/plain": [
       "1.0066739590332818"
      ]
     },
     "execution_count": 39,
     "metadata": {},
     "output_type": "execute_result"
    }
   ],
   "source": [
    "base_mse = mse(ytest, base_predict)\n",
    "base_mse"
   ]
  },
  {
   "cell_type": "code",
   "execution_count": 40,
   "metadata": {},
   "outputs": [
    {
     "data": {
      "text/plain": [
       "0"
      ]
     },
     "execution_count": 40,
     "metadata": {},
     "output_type": "execute_result"
    }
   ],
   "source": [
    "base_adjr2 = 0\n",
    "base_adjr2"
   ]
  },
  {
   "cell_type": "markdown",
   "metadata": {},
   "source": [
    "## Full Linear Regression Model"
   ]
  },
  {
   "cell_type": "code",
   "execution_count": 41,
   "metadata": {},
   "outputs": [
    {
     "name": "stdout",
     "output_type": "stream",
     "text": [
      "0.5396236987317399 0.4639091951545802\n"
     ]
    }
   ],
   "source": [
    "model = LinearRegression()\n",
    "model.fit(xtrain, ytrain)\n",
    "full_predict = model.predict(xtest)\n",
    "\n",
    "full_mse = mse(ytest, full_predict)\n",
    "full_r2 = r2_score(ytest, full_predict)\n",
    "\n",
    "full_adjr2 = 1 - ((1 - full_r2) * (len(ytrain) - 1) / (len(ytrain) - xtrain.shape[1] - 1))\n",
    "print(full_mse, full_adjr2)"
   ]
  },
  {
   "cell_type": "code",
   "execution_count": 42,
   "metadata": {},
   "outputs": [
    {
     "data": {
      "text/plain": [
       "array([ 3.14512394e-03,  2.64963762e-03,  4.83737279e-03, -4.01951965e-04,\n",
       "       -8.71886223e-03, -5.08529298e-03,  8.37307637e-03,  3.59712886e-03,\n",
       "        2.38616488e-03,  6.76409699e-03,  1.30815444e-03, -1.07040796e-03,\n",
       "       -1.35127815e-03,  1.16069266e-03, -4.73018609e-03, -1.94777524e-03,\n",
       "       -5.43996927e-05, -1.69201108e-03,  9.47985915e-03,  2.39207083e-03,\n",
       "       -1.42658334e-03, -1.07878216e-02, -1.14623418e-02, -5.65118183e-03,\n",
       "        3.41544395e-03, -1.09178887e-02, -3.55680192e-03, -5.19040688e-04,\n",
       "        5.84265907e-03,  2.49728618e-03,  8.16728607e-03, -7.38130448e-03,\n",
       "       -4.98145424e-03,  3.71266245e-03, -1.72200969e-03,  3.64247227e-03,\n",
       "        1.33258392e-03,  6.68695829e-04,  5.00698459e-04, -7.05698006e-03,\n",
       "       -9.41196480e-03,  5.93621617e-02, -1.00830834e-01, -4.85401365e-02,\n",
       "       -6.26136859e-02,  7.46819847e-01])"
      ]
     },
     "execution_count": 42,
     "metadata": {},
     "output_type": "execute_result"
    }
   ],
   "source": [
    "model.coef_"
   ]
  },
  {
   "cell_type": "code",
   "execution_count": 43,
   "metadata": {
    "scrolled": false
   },
   "outputs": [
    {
     "data": {
      "text/plain": [
       "<matplotlib.collections.PathCollection at 0x13624af2c40>"
      ]
     },
     "execution_count": 43,
     "metadata": {},
     "output_type": "execute_result"
    },
    {
     "data": {
      "image/png": "[encoded data removed]",
      "text/plain": [
       "<Figure size 432x288 with 1 Axes>"
      ]
     },
     "metadata": {
      "needs_background": "light"
     },
     "output_type": "display_data"
    }
   ],
   "source": [
    "residuals = ytest - full_predict\n",
    "plt.scatter(x = full_predict, y = residuals, s = 10, alpha = 0.6)"
   ]
  },
  {
   "cell_type": "markdown",
   "metadata": {},
   "source": [
    "This shows that the data does not have a linear relationship as the residuals have correlation with the fitted values"
   ]
  },
  {
   "cell_type": "markdown",
   "metadata": {},
   "source": [
    "## Full Ridge Regression Model"
   ]
  },
  {
   "cell_type": "code",
   "execution_count": 44,
   "metadata": {},
   "outputs": [],
   "source": [
    "def alpha_evaluator_ridge(alpha_list, xtrain, ytrain):\n",
    "    mse_list = []\n",
    "    adjr2_list = []\n",
    "    for alpha_ in alpha_list:\n",
    "        model = Ridge(alpha = alpha_)\n",
    "        scores = cross_validate(model, X = xtrain, y = ytrain, cv=6,scoring=('r2', 'neg_mean_squared_error'),return_train_score=True)\n",
    "\n",
    "        mse = -scores['test_neg_mean_squared_error'].mean()\n",
    "        r2 = scores['test_r2'].mean()\n",
    "\n",
    "        adjr2 = 1 - ((1 - r2) * (len(ytrain) - 1) / (len(ytrain) - xtrain.shape[1] - 1))\n",
    "        \n",
    "        mse_list.append(mse)\n",
    "        adjr2_list.append(adjr2)\n",
    "        \n",
    "    return mse_list, adjr2_list"
   ]
  },
  {
   "cell_type": "code",
   "execution_count": 45,
   "metadata": {},
   "outputs": [],
   "source": [
    "alpha_list = [0.1, 1.0, 10.0, 100.0, 1000.0, 10000.0, 100000.0]\n",
    "mse_list, adjr2_list = alpha_evaluator_ridge(alpha_list, xtrain, ytrain)"
   ]
  },
  {
   "cell_type": "code",
   "execution_count": 46,
   "metadata": {},
   "outputs": [
    {
     "data": {
      "image/png": "[encoded data removed]",
      "text/plain": [
       "<Figure size 432x288 with 1 Axes>"
      ]
     },
     "metadata": {
      "needs_background": "light"
     },
     "output_type": "display_data"
    }
   ],
   "source": [
    "plt.plot(alpha_list, mse_list)\n",
    "plt.xscale('log')"
   ]
  },
  {
   "cell_type": "code",
   "execution_count": 47,
   "metadata": {},
   "outputs": [
    {
     "data": {
      "image/png": "[encoded data removed]",
      "text/plain": [
       "<Figure size 432x288 with 1 Axes>"
      ]
     },
     "metadata": {
      "needs_background": "light"
     },
     "output_type": "display_data"
    }
   ],
   "source": [
    "plt.plot(alpha_list, adjr2_list)\n",
    "plt.xscale('log')"
   ]
  },
  {
   "cell_type": "code",
   "execution_count": 48,
   "metadata": {},
   "outputs": [
    {
     "data": {
      "text/plain": [
       "[0.5349309873407767,\n",
       " 0.5349309661663885,\n",
       " 0.5349307553973988,\n",
       " 0.5349287385871823,\n",
       " 0.5349148964145899,\n",
       " 0.5351713709961463,\n",
       " 0.5560736473235662]"
      ]
     },
     "execution_count": 48,
     "metadata": {},
     "output_type": "execute_result"
    }
   ],
   "source": [
    "mse_list"
   ]
  },
  {
   "cell_type": "code",
   "execution_count": 49,
   "metadata": {},
   "outputs": [
    {
     "data": {
      "text/plain": [
       "[0.4641467865084935,\n",
       " 0.464146808217189,\n",
       " 0.4641470243239092,\n",
       " 0.4641490940215536,\n",
       " 0.46416343491384904,\n",
       " 0.46391044455845587,\n",
       " 0.44297831695528045]"
      ]
     },
     "execution_count": 49,
     "metadata": {},
     "output_type": "execute_result"
    }
   ],
   "source": [
    "adjr2_list"
   ]
  },
  {
   "cell_type": "code",
   "execution_count": 50,
   "metadata": {},
   "outputs": [
    {
     "name": "stdout",
     "output_type": "stream",
     "text": [
      "0.5396583035353988 0.46387481690712995\n"
     ]
    }
   ],
   "source": [
    "model = Ridge(alpha = 1000.0)\n",
    "model.fit(xtrain, ytrain)\n",
    "ridge_predict = model.predict(xtest)\n",
    "\n",
    "ridge_mse = mse(ytest, ridge_predict)\n",
    "ridge_r2 = r2_score(ytest, ridge_predict)\n",
    "\n",
    "ridge_adjr2 = 1 - ((1 - ridge_r2) * (len(ytrain) - 1) / (len(ytrain) - xtrain.shape[1] - 1))\n",
    "print(ridge_mse, ridge_adjr2)"
   ]
  },
  {
   "cell_type": "code",
   "execution_count": 51,
   "metadata": {},
   "outputs": [
    {
     "data": {
      "text/plain": [
       "array([ 3.05738596e-03,  2.65550480e-03,  4.67586793e-03, -3.29091577e-04,\n",
       "       -8.39653079e-03, -4.80865555e-03,  6.41413939e-03,  3.40730324e-03,\n",
       "        2.21582278e-03,  6.53890966e-03,  1.16767740e-03, -1.16205416e-03,\n",
       "       -1.41766730e-03,  1.21986672e-03, -4.60285034e-03, -1.85040455e-03,\n",
       "        1.36173254e-05, -1.58725465e-03,  9.52410382e-03,  2.79674193e-03,\n",
       "       -6.73254756e-04, -8.69844871e-03, -9.21595784e-03, -4.60221913e-03,\n",
       "        3.93571194e-03, -9.86850905e-03, -2.77040663e-03,  1.64175271e-04,\n",
       "        6.29826280e-03,  3.07188117e-03,  8.56253761e-03, -6.47416910e-03,\n",
       "       -4.14055489e-03,  4.24747751e-03, -9.92058360e-04,  4.20555945e-03,\n",
       "        1.97368508e-03,  1.32979257e-03,  1.17266961e-03, -6.16634439e-03,\n",
       "       -8.43308925e-03,  5.87590022e-02, -9.99352412e-02, -4.85746381e-02,\n",
       "       -6.20879966e-02,  7.44758381e-01])"
      ]
     },
     "execution_count": 51,
     "metadata": {},
     "output_type": "execute_result"
    }
   ],
   "source": [
    "model.coef_"
   ]
  },
  {
   "cell_type": "code",
   "execution_count": 52,
   "metadata": {},
   "outputs": [
    {
     "data": {
      "text/plain": [
       "<matplotlib.collections.PathCollection at 0x1363aef6850>"
      ]
     },
     "execution_count": 52,
     "metadata": {},
     "output_type": "execute_result"
    },
    {
     "data": {
      "image/png": "[encoded data removed]",
      "text/plain": [
       "<Figure size 432x288 with 1 Axes>"
      ]
     },
     "metadata": {
      "needs_background": "light"
     },
     "output_type": "display_data"
    }
   ],
   "source": [
    "residuals = ytest - ridge_predict\n",
    "plt.scatter(x = ridge_predict, y = residuals, s = 10, alpha = 0.6)"
   ]
  },
  {
   "cell_type": "markdown",
   "metadata": {},
   "source": [
    "This shows that the data does not have a linear relationship as the residuals have correlation with the fitted values"
   ]
  },
  {
   "cell_type": "markdown",
   "metadata": {},
   "source": [
    "## Full Lasso Regression Model"
   ]
  },
  {
   "cell_type": "code",
   "execution_count": 53,
   "metadata": {},
   "outputs": [],
   "source": [
    "def alpha_evaluator_lasso(alpha_list, xtrain, ytrain):\n",
    "    mse_list = []\n",
    "    adjr2_list = []\n",
    "    for alpha_ in alpha_list:\n",
    "        model = Lasso(alpha = alpha_)\n",
    "        scores = cross_validate(model, X = xtrain, y = ytrain, cv=6,scoring=('r2', 'neg_mean_squared_error'),return_train_score=True)\n",
    "\n",
    "        mse = -scores['test_neg_mean_squared_error'].mean()\n",
    "        r2 = scores['test_r2'].mean()\n",
    "\n",
    "        adjr2 = 1 - ((1 - r2) * (len(ytrain) - 1) / (len(ytrain) - xtrain.shape[1] - 1))\n",
    "        \n",
    "        mse_list.append(mse)\n",
    "        adjr2_list.append(adjr2)\n",
    "        \n",
    "    return mse_list, adjr2_list"
   ]
  },
  {
   "cell_type": "code",
   "execution_count": 54,
   "metadata": {},
   "outputs": [],
   "source": [
    "alpha_list = [0.0001, 0.001, 0.01, 0.1, 1.0]\n",
    "mse_list, adjr2_list = alpha_evaluator_lasso(alpha_list, xtrain, ytrain)"
   ]
  },
  {
   "cell_type": "code",
   "execution_count": 55,
   "metadata": {},
   "outputs": [
    {
     "data": {
      "image/png": "[encoded data removed]",
      "text/plain": [
       "<Figure size 432x288 with 1 Axes>"
      ]
     },
     "metadata": {
      "needs_background": "light"
     },
     "output_type": "display_data"
    }
   ],
   "source": [
    "plt.plot(alpha_list, mse_list)\n",
    "plt.xscale('log')"
   ]
  },
  {
   "cell_type": "code",
   "execution_count": 56,
   "metadata": {},
   "outputs": [
    {
     "data": {
      "image/png": "[encoded data removed]",
      "text/plain": [
       "<Figure size 432x288 with 1 Axes>"
      ]
     },
     "metadata": {
      "needs_background": "light"
     },
     "output_type": "display_data"
    }
   ],
   "source": [
    "plt.plot(alpha_list, adjr2_list)\n",
    "plt.xscale('log')"
   ]
  },
  {
   "cell_type": "code",
   "execution_count": 57,
   "metadata": {},
   "outputs": [
    {
     "data": {
      "text/plain": [
       "[0.5349100086086248,\n",
       " 0.5348887146747702,\n",
       " 0.5356525384689791,\n",
       " 0.5619637006022407,\n",
       " 0.9983428513046423]"
      ]
     },
     "execution_count": 57,
     "metadata": {},
     "output_type": "execute_result"
    }
   ],
   "source": [
    "mse_list"
   ]
  },
  {
   "cell_type": "code",
   "execution_count": 58,
   "metadata": {},
   "outputs": [
    {
     "data": {
      "text/plain": [
       "[0.4641680209509568,\n",
       " 0.46419021143338335,\n",
       " 0.46343105324788214,\n",
       " 0.43707905073031306,\n",
       " -0.00010806173363175908]"
      ]
     },
     "execution_count": 58,
     "metadata": {},
     "output_type": "execute_result"
    }
   ],
   "source": [
    "adjr2_list"
   ]
  },
  {
   "cell_type": "code",
   "execution_count": 59,
   "metadata": {},
   "outputs": [
    {
     "name": "stdout",
     "output_type": "stream",
     "text": [
      "0.539623698762352 0.4639091951241684\n"
     ]
    }
   ],
   "source": [
    "model = Ridge(alpha = 0.001)\n",
    "model.fit(xtrain, ytrain)\n",
    "lasso_predict = model.predict(xtest)\n",
    "\n",
    "lasso_mse = mse(ytest, lasso_predict)\n",
    "lasso_r2 = r2_score(ytest, lasso_predict)\n",
    "\n",
    "lasso_adjr2 = 1 - ((1 - lasso_r2)* (len(ytrain) - 1) / (len(ytrain) - xtrain.shape[1] - 1))\n",
    "print(lasso_mse, lasso_adjr2)"
   ]
  },
  {
   "cell_type": "code",
   "execution_count": 60,
   "metadata": {},
   "outputs": [
    {
     "data": {
      "text/plain": [
       "array([ 3.14512385e-03,  2.64963764e-03,  4.83737262e-03, -4.01951878e-04,\n",
       "       -8.71886189e-03, -5.08529269e-03,  8.37307380e-03,  3.59712866e-03,\n",
       "        2.38616470e-03,  6.76409676e-03,  1.30815430e-03, -1.07040804e-03,\n",
       "       -1.35127820e-03,  1.16069273e-03, -4.73018596e-03, -1.94777513e-03,\n",
       "       -5.43996195e-05, -1.69201096e-03,  9.47986005e-03,  2.39207213e-03,\n",
       "       -1.42658164e-03, -1.07878183e-02, -1.14623383e-02, -5.65117983e-03,\n",
       "        3.41544536e-03, -1.09178868e-02, -3.55680024e-03, -5.19039115e-04,\n",
       "        5.84266041e-03,  2.49728764e-03,  8.16728734e-03, -7.38130268e-03,\n",
       "       -4.98145250e-03,  3.71266387e-03, -1.72200807e-03,  3.64247372e-03,\n",
       "        1.33258545e-03,  6.68697374e-04,  5.00700015e-04, -7.05697828e-03,\n",
       "       -9.41196293e-03,  5.93621610e-02, -1.00830833e-01, -4.85401366e-02,\n",
       "       -6.26136854e-02,  7.46819845e-01])"
      ]
     },
     "execution_count": 60,
     "metadata": {},
     "output_type": "execute_result"
    }
   ],
   "source": [
    "model.coef_"
   ]
  },
  {
   "cell_type": "code",
   "execution_count": 61,
   "metadata": {},
   "outputs": [
    {
     "data": {
      "text/plain": [
       "<matplotlib.collections.PathCollection at 0x1363d3fda90>"
      ]
     },
     "execution_count": 61,
     "metadata": {},
     "output_type": "execute_result"
    },
    {
     "data": {
      "image/png": "[encoded data removed]",
      "text/plain": [
       "<Figure size 432x288 with 1 Axes>"
      ]
     },
     "metadata": {
      "needs_background": "light"
     },
     "output_type": "display_data"
    }
   ],
   "source": [
    "residuals = ytest - ridge_predict\n",
    "plt.scatter(x = ridge_predict, y = residuals, s = 10, alpha = 0.6)"
   ]
  },
  {
   "cell_type": "markdown",
   "metadata": {},
   "source": [
    "This shows that the data does not have a linear relationship as the residuals have correlation with the fitted values"
   ]
  },
  {
   "cell_type": "markdown",
   "metadata": {},
   "source": [
    "### Comparison"
   ]
  },
  {
   "cell_type": "code",
   "execution_count": 62,
   "metadata": {},
   "outputs": [
    {
     "data": {
      "image/png": "[encoded data removed]",
      "text/plain": [
       "<Figure size 432x288 with 1 Axes>"
      ]
     },
     "metadata": {
      "needs_background": "light"
     },
     "output_type": "display_data"
    }
   ],
   "source": [
    "models = ['Base', 'OLS', 'Ridge', 'Lasso']\n",
    "mse_vals = [base_mse, full_mse, ridge_mse, lasso_mse]\n",
    "\n",
    "plt.bar(models, mse_vals)\n",
    "plt.title('MSE Comparison')\n",
    "plt.show()"
   ]
  },
  {
   "cell_type": "code",
   "execution_count": 63,
   "metadata": {},
   "outputs": [
    {
     "data": {
      "image/png": "[encoded data removed]",
      "text/plain": [
       "<Figure size 432x288 with 1 Axes>"
      ]
     },
     "metadata": {
      "needs_background": "light"
     },
     "output_type": "display_data"
    }
   ],
   "source": [
    "models = ['Base', 'OLS', 'Ridge', \"Lasso\"]\n",
    "adjr2_vals = [base_adjr2, full_adjr2, ridge_adjr2, lasso_adjr2]\n",
    "\n",
    "plt.bar(models, adjr2_vals)\n",
    "plt.title('Adj R2 Comparison')\n",
    "plt.show()"
   ]
  },
  {
   "cell_type": "markdown",
   "metadata": {},
   "source": [
    "The performance of the three models are similar. I will attempt Reverse Feature Elimination on the Lasso Regression Model"
   ]
  },
  {
   "cell_type": "markdown",
   "metadata": {},
   "source": [
    "### Reverse Feature Elimination or Backward Selection\n",
    "\n",
    "We have already built a laso regression model using all the features and a separate model using only the baseline mean. We can try using backward feature elimination to check if we can do better. Let's do that next."
   ]
  },
  {
   "cell_type": "markdown",
   "metadata": {},
   "source": [
    "### VIF"
   ]
  },
  {
   "cell_type": "code",
   "execution_count": 64,
   "metadata": {
    "scrolled": false
   },
   "outputs": [
    {
     "data": {
      "text/plain": [
       "vendor_id_2             2.316581\n",
       "passenger_count_2       1.208239\n",
       "passenger_count_3       1.062257\n",
       "passenger_count_4       1.028841\n",
       "passenger_count_5       1.141008\n",
       "passenger_count_6       1.087340\n",
       "store_and_fwd_flag_Y    1.011719\n",
       "pickup_dayofweek_1      1.879558\n",
       "pickup_dayofweek_2      1.910953\n",
       "pickup_dayofweek_3      1.942763\n",
       "pickup_dayofweek_4      1.934901\n",
       "pickup_dayofweek_5      1.939012\n",
       "pickup_dayofweek_6      1.825683\n",
       "pickup_month_2          1.874123\n",
       "pickup_month_3          1.956213\n",
       "pickup_month_4          1.930489\n",
       "pickup_month_5          1.916076\n",
       "pickup_month_6          1.867717\n",
       "pickup_hour_1           1.259116\n",
       "pickup_hour_2           1.190243\n",
       "pickup_hour_3           1.142558\n",
       "pickup_hour_4           1.101747\n",
       "pickup_hour_5           1.089548\n",
       "pickup_hour_6           1.197572\n",
       "pickup_hour_7           1.340288\n",
       "pickup_hour_8           1.405681\n",
       "pickup_hour_9           1.409312\n",
       "pickup_hour_10          1.401963\n",
       "pickup_hour_11          1.416546\n",
       "pickup_hour_12          1.439881\n",
       "pickup_hour_13          1.436614\n",
       "pickup_hour_14          1.449875\n",
       "pickup_hour_15          1.427839\n",
       "pickup_hour_16          1.386071\n",
       "pickup_hour_17          1.461862\n",
       "pickup_hour_18          1.549674\n",
       "pickup_hour_19          1.550189\n",
       "pickup_hour_20          1.514515\n",
       "pickup_hour_21          1.522337\n",
       "pickup_hour_22          1.507557\n",
       "pickup_hour_23          1.450606\n",
       "pickup_latitude         1.423373\n",
       "pickup_longitude        1.377553\n",
       "dropoff_latitude        1.353517\n",
       "dropoff_longitude       1.233414\n",
       "distance                1.497068\n",
       "dtype: float64"
      ]
     },
     "execution_count": 64,
     "metadata": {},
     "output_type": "execute_result"
    }
   ],
   "source": [
    "from statsmodels.stats.outliers_influence import variance_inflation_factor\n",
    "\n",
    "VIF = pd.Series([variance_inflation_factor(xtrain.values,i) for i in range(xtrain.shape[1])], index = xtrain.columns)\n",
    "VIF"
   ]
  },
  {
   "cell_type": "markdown",
   "metadata": {},
   "source": [
    "VIF for all variables is under 5"
   ]
  },
  {
   "cell_type": "code",
   "execution_count": 65,
   "metadata": {},
   "outputs": [
    {
     "data": {
      "text/plain": [
       "RFE(estimator=Lasso(alpha=0.001), n_features_to_select=1)"
      ]
     },
     "execution_count": 65,
     "metadata": {},
     "output_type": "execute_result"
    }
   ],
   "source": [
    "from sklearn.feature_selection import RFE\n",
    "import matplotlib.pyplot as plt\n",
    "\n",
    "# Create the RFE object and rank each feature\n",
    "model = Lasso(alpha = 0.001)\n",
    "rfe = RFE(estimator=model, n_features_to_select=1, step=1)\n",
    "rfe.fit(xtrain, ytrain)"
   ]
  },
  {
   "cell_type": "code",
   "execution_count": 66,
   "metadata": {},
   "outputs": [],
   "source": [
    "ranking_df = pd.DataFrame()\n",
    "ranking_df['Feature_name'] = xtrain.columns\n",
    "ranking_df['Rank'] = rfe.ranking_"
   ]
  },
  {
   "cell_type": "code",
   "execution_count": 67,
   "metadata": {},
   "outputs": [],
   "source": [
    "ranked = ranking_df.sort_values(by=['Rank'])"
   ]
  },
  {
   "cell_type": "code",
   "execution_count": 68,
   "metadata": {},
   "outputs": [],
   "source": [
    "ranked = ranked.reset_index().drop(columns = ['index'])"
   ]
  },
  {
   "cell_type": "code",
   "execution_count": 69,
   "metadata": {},
   "outputs": [
    {
     "data": {
      "text/html": [
       "<div>\n",
       "<style scoped>\n",
       "    .dataframe tbody tr th:only-of-type {\n",
       "        vertical-align: middle;\n",
       "    }\n",
       "\n",
       "    .dataframe tbody tr th {\n",
       "        vertical-align: top;\n",
       "    }\n",
       "\n",
       "    .dataframe thead th {\n",
       "        text-align: right;\n",
       "    }\n",
       "</style>\n",
       "<table border=\"1\" class=\"dataframe\">\n",
       "  <thead>\n",
       "    <tr style=\"text-align: right;\">\n",
       "      <th></th>\n",
       "      <th>Feature_name</th>\n",
       "      <th>Rank</th>\n",
       "    </tr>\n",
       "  </thead>\n",
       "  <tbody>\n",
       "    <tr>\n",
       "      <th>0</th>\n",
       "      <td>distance</td>\n",
       "      <td>1</td>\n",
       "    </tr>\n",
       "    <tr>\n",
       "      <th>1</th>\n",
       "      <td>pickup_longitude</td>\n",
       "      <td>2</td>\n",
       "    </tr>\n",
       "    <tr>\n",
       "      <th>2</th>\n",
       "      <td>dropoff_longitude</td>\n",
       "      <td>3</td>\n",
       "    </tr>\n",
       "    <tr>\n",
       "      <th>3</th>\n",
       "      <td>pickup_latitude</td>\n",
       "      <td>4</td>\n",
       "    </tr>\n",
       "    <tr>\n",
       "      <th>4</th>\n",
       "      <td>dropoff_latitude</td>\n",
       "      <td>5</td>\n",
       "    </tr>\n",
       "    <tr>\n",
       "      <th>5</th>\n",
       "      <td>pickup_hour_23</td>\n",
       "      <td>6</td>\n",
       "    </tr>\n",
       "    <tr>\n",
       "      <th>6</th>\n",
       "      <td>pickup_hour_22</td>\n",
       "      <td>7</td>\n",
       "    </tr>\n",
       "    <tr>\n",
       "      <th>7</th>\n",
       "      <td>pickup_hour_21</td>\n",
       "      <td>8</td>\n",
       "    </tr>\n",
       "    <tr>\n",
       "      <th>8</th>\n",
       "      <td>pickup_hour_20</td>\n",
       "      <td>9</td>\n",
       "    </tr>\n",
       "    <tr>\n",
       "      <th>9</th>\n",
       "      <td>pickup_hour_19</td>\n",
       "      <td>10</td>\n",
       "    </tr>\n",
       "    <tr>\n",
       "      <th>10</th>\n",
       "      <td>pickup_hour_18</td>\n",
       "      <td>11</td>\n",
       "    </tr>\n",
       "    <tr>\n",
       "      <th>11</th>\n",
       "      <td>pickup_hour_17</td>\n",
       "      <td>12</td>\n",
       "    </tr>\n",
       "    <tr>\n",
       "      <th>12</th>\n",
       "      <td>pickup_hour_16</td>\n",
       "      <td>13</td>\n",
       "    </tr>\n",
       "    <tr>\n",
       "      <th>13</th>\n",
       "      <td>pickup_hour_15</td>\n",
       "      <td>14</td>\n",
       "    </tr>\n",
       "    <tr>\n",
       "      <th>14</th>\n",
       "      <td>pickup_hour_14</td>\n",
       "      <td>15</td>\n",
       "    </tr>\n",
       "    <tr>\n",
       "      <th>15</th>\n",
       "      <td>pickup_hour_13</td>\n",
       "      <td>16</td>\n",
       "    </tr>\n",
       "    <tr>\n",
       "      <th>16</th>\n",
       "      <td>pickup_hour_12</td>\n",
       "      <td>17</td>\n",
       "    </tr>\n",
       "    <tr>\n",
       "      <th>17</th>\n",
       "      <td>pickup_hour_11</td>\n",
       "      <td>18</td>\n",
       "    </tr>\n",
       "    <tr>\n",
       "      <th>18</th>\n",
       "      <td>pickup_hour_10</td>\n",
       "      <td>19</td>\n",
       "    </tr>\n",
       "    <tr>\n",
       "      <th>19</th>\n",
       "      <td>pickup_hour_9</td>\n",
       "      <td>20</td>\n",
       "    </tr>\n",
       "    <tr>\n",
       "      <th>20</th>\n",
       "      <td>pickup_hour_8</td>\n",
       "      <td>21</td>\n",
       "    </tr>\n",
       "    <tr>\n",
       "      <th>21</th>\n",
       "      <td>pickup_hour_7</td>\n",
       "      <td>22</td>\n",
       "    </tr>\n",
       "    <tr>\n",
       "      <th>22</th>\n",
       "      <td>pickup_hour_6</td>\n",
       "      <td>23</td>\n",
       "    </tr>\n",
       "    <tr>\n",
       "      <th>23</th>\n",
       "      <td>pickup_hour_5</td>\n",
       "      <td>24</td>\n",
       "    </tr>\n",
       "    <tr>\n",
       "      <th>24</th>\n",
       "      <td>pickup_hour_4</td>\n",
       "      <td>25</td>\n",
       "    </tr>\n",
       "    <tr>\n",
       "      <th>25</th>\n",
       "      <td>pickup_hour_3</td>\n",
       "      <td>26</td>\n",
       "    </tr>\n",
       "    <tr>\n",
       "      <th>26</th>\n",
       "      <td>pickup_hour_2</td>\n",
       "      <td>27</td>\n",
       "    </tr>\n",
       "    <tr>\n",
       "      <th>27</th>\n",
       "      <td>pickup_hour_1</td>\n",
       "      <td>28</td>\n",
       "    </tr>\n",
       "    <tr>\n",
       "      <th>28</th>\n",
       "      <td>pickup_month_6</td>\n",
       "      <td>29</td>\n",
       "    </tr>\n",
       "    <tr>\n",
       "      <th>29</th>\n",
       "      <td>pickup_month_5</td>\n",
       "      <td>30</td>\n",
       "    </tr>\n",
       "    <tr>\n",
       "      <th>30</th>\n",
       "      <td>pickup_month_4</td>\n",
       "      <td>31</td>\n",
       "    </tr>\n",
       "    <tr>\n",
       "      <th>31</th>\n",
       "      <td>pickup_month_3</td>\n",
       "      <td>32</td>\n",
       "    </tr>\n",
       "    <tr>\n",
       "      <th>32</th>\n",
       "      <td>pickup_month_2</td>\n",
       "      <td>33</td>\n",
       "    </tr>\n",
       "    <tr>\n",
       "      <th>33</th>\n",
       "      <td>pickup_dayofweek_6</td>\n",
       "      <td>34</td>\n",
       "    </tr>\n",
       "    <tr>\n",
       "      <th>34</th>\n",
       "      <td>pickup_dayofweek_5</td>\n",
       "      <td>35</td>\n",
       "    </tr>\n",
       "    <tr>\n",
       "      <th>35</th>\n",
       "      <td>pickup_dayofweek_4</td>\n",
       "      <td>36</td>\n",
       "    </tr>\n",
       "    <tr>\n",
       "      <th>36</th>\n",
       "      <td>pickup_dayofweek_3</td>\n",
       "      <td>37</td>\n",
       "    </tr>\n",
       "    <tr>\n",
       "      <th>37</th>\n",
       "      <td>pickup_dayofweek_2</td>\n",
       "      <td>38</td>\n",
       "    </tr>\n",
       "    <tr>\n",
       "      <th>38</th>\n",
       "      <td>pickup_dayofweek_1</td>\n",
       "      <td>39</td>\n",
       "    </tr>\n",
       "    <tr>\n",
       "      <th>39</th>\n",
       "      <td>store_and_fwd_flag_Y</td>\n",
       "      <td>40</td>\n",
       "    </tr>\n",
       "    <tr>\n",
       "      <th>40</th>\n",
       "      <td>passenger_count_6</td>\n",
       "      <td>41</td>\n",
       "    </tr>\n",
       "    <tr>\n",
       "      <th>41</th>\n",
       "      <td>passenger_count_5</td>\n",
       "      <td>42</td>\n",
       "    </tr>\n",
       "    <tr>\n",
       "      <th>42</th>\n",
       "      <td>passenger_count_4</td>\n",
       "      <td>43</td>\n",
       "    </tr>\n",
       "    <tr>\n",
       "      <th>43</th>\n",
       "      <td>passenger_count_3</td>\n",
       "      <td>44</td>\n",
       "    </tr>\n",
       "    <tr>\n",
       "      <th>44</th>\n",
       "      <td>passenger_count_2</td>\n",
       "      <td>45</td>\n",
       "    </tr>\n",
       "    <tr>\n",
       "      <th>45</th>\n",
       "      <td>vendor_id_2</td>\n",
       "      <td>46</td>\n",
       "    </tr>\n",
       "  </tbody>\n",
       "</table>\n",
       "</div>"
      ],
      "text/plain": [
       "            Feature_name  Rank\n",
       "0               distance     1\n",
       "1       pickup_longitude     2\n",
       "2      dropoff_longitude     3\n",
       "3        pickup_latitude     4\n",
       "4       dropoff_latitude     5\n",
       "5         pickup_hour_23     6\n",
       "6         pickup_hour_22     7\n",
       "7         pickup_hour_21     8\n",
       "8         pickup_hour_20     9\n",
       "9         pickup_hour_19    10\n",
       "10        pickup_hour_18    11\n",
       "11        pickup_hour_17    12\n",
       "12        pickup_hour_16    13\n",
       "13        pickup_hour_15    14\n",
       "14        pickup_hour_14    15\n",
       "15        pickup_hour_13    16\n",
       "16        pickup_hour_12    17\n",
       "17        pickup_hour_11    18\n",
       "18        pickup_hour_10    19\n",
       "19         pickup_hour_9    20\n",
       "20         pickup_hour_8    21\n",
       "21         pickup_hour_7    22\n",
       "22         pickup_hour_6    23\n",
       "23         pickup_hour_5    24\n",
       "24         pickup_hour_4    25\n",
       "25         pickup_hour_3    26\n",
       "26         pickup_hour_2    27\n",
       "27         pickup_hour_1    28\n",
       "28        pickup_month_6    29\n",
       "29        pickup_month_5    30\n",
       "30        pickup_month_4    31\n",
       "31        pickup_month_3    32\n",
       "32        pickup_month_2    33\n",
       "33    pickup_dayofweek_6    34\n",
       "34    pickup_dayofweek_5    35\n",
       "35    pickup_dayofweek_4    36\n",
       "36    pickup_dayofweek_3    37\n",
       "37    pickup_dayofweek_2    38\n",
       "38    pickup_dayofweek_1    39\n",
       "39  store_and_fwd_flag_Y    40\n",
       "40     passenger_count_6    41\n",
       "41     passenger_count_5    42\n",
       "42     passenger_count_4    43\n",
       "43     passenger_count_3    44\n",
       "44     passenger_count_2    45\n",
       "45           vendor_id_2    46"
      ]
     },
     "execution_count": 69,
     "metadata": {},
     "output_type": "execute_result"
    }
   ],
   "source": [
    "ranked"
   ]
  },
  {
   "cell_type": "markdown",
   "metadata": {},
   "source": [
    "The distance. coordinates and pickup hour features are proving to be very important as can be seen from the table. The RFE function can also be used to select features. Lets select the top 28 features (approx half) from this table and check score."
   ]
  },
  {
   "cell_type": "code",
   "execution_count": 76,
   "metadata": {},
   "outputs": [],
   "source": [
    "cols = ranked['Feature_name'][:28].values"
   ]
  },
  {
   "cell_type": "code",
   "execution_count": 77,
   "metadata": {},
   "outputs": [],
   "source": [
    "xtrain_rfe = xtrain[cols]\n",
    "xtest_rfe = xtest[cols]"
   ]
  },
  {
   "cell_type": "code",
   "execution_count": 78,
   "metadata": {},
   "outputs": [
    {
     "name": "stdout",
     "output_type": "stream",
     "text": [
      "0.5396334181071912 0.46391608251661876\n"
     ]
    }
   ],
   "source": [
    "model = Lasso(alpha = 0.001)\n",
    "model.fit(xtrain_rfe, ytrain)\n",
    "rfe_predict = model.predict(xtest_rfe)\n",
    "\n",
    "rfe_mse = mse(ytest, rfe_predict)\n",
    "rfe_r2 = r2_score(ytest, rfe_predict)\n",
    "\n",
    "rfe_adjr2 = 1 - ((1 - rfe_r2) * (len(ytrain) - 1) / (len(ytrain) - xtrain_rfe.shape[1] - 1))\n",
    "print(rfe_mse, rfe_adjr2)"
   ]
  },
  {
   "cell_type": "markdown",
   "metadata": {},
   "source": [
    "## Final Comparison"
   ]
  },
  {
   "cell_type": "code",
   "execution_count": 79,
   "metadata": {
    "scrolled": false
   },
   "outputs": [
    {
     "data": {
      "image/png": "[encoded data removed]",
      "text/plain": [
       "<Figure size 432x288 with 1 Axes>"
      ]
     },
     "metadata": {
      "needs_background": "light"
     },
     "output_type": "display_data"
    }
   ],
   "source": [
    "models = ['Base', 'OLS', 'Ridge', 'Lasso', 'Lasso after RFE']\n",
    "mse_vals = [base_mse, full_mse, ridge_mse, lasso_mse, rfe_mse]\n",
    "\n",
    "plt.bar(models, mse_vals)\n",
    "plt.title('MSE Comparison')\n",
    "plt.show()"
   ]
  },
  {
   "cell_type": "code",
   "execution_count": 80,
   "metadata": {
    "scrolled": true
   },
   "outputs": [
    {
     "data": {
      "image/png": "[encoded data removed]",
      "text/plain": [
       "<Figure size 432x288 with 1 Axes>"
      ]
     },
     "metadata": {
      "needs_background": "light"
     },
     "output_type": "display_data"
    }
   ],
   "source": [
    "models = ['Base', 'OLS', 'Ridge', 'Lasso', 'Lasso after RFE']\n",
    "adjr2_vals = [base_adjr2, full_adjr2, ridge_adjr2, lasso_adjr2, rfe_adjr2]\n",
    "\n",
    "plt.bar(models, adjr2_vals)\n",
    "plt.title('Adj R2 Comparison')\n",
    "plt.show()"
   ]
  },
  {
   "cell_type": "markdown",
   "metadata": {},
   "source": [
    "The performance of all models is much better than the base model but we have been unable to improve performance compared to the simple full Linear Regression model"
   ]
  },
  {
   "cell_type": "markdown",
   "metadata": {},
   "source": [
    "Also, residuals have correlation with fitted values which shows that the data is not fit for using Linear Regression."
   ]
  },
  {
   "cell_type": "code",
   "execution_count": null,
   "metadata": {},
   "outputs": [],
   "source": []
  }
 ],
 "metadata": {
  "kernelspec": {
   "display_name": "Python 3 (ipykernel)",
   "language": "python",
   "name": "python3"
  },
  "language_info": {
   "codemirror_mode": {
    "name": "ipython",
    "version": 3
   },
   "file_extension": ".py",
   "mimetype": "text/x-python",
   "name": "python",
   "nbconvert_exporter": "python",
   "pygments_lexer": "ipython3",
   "version": "3.9.7"
  }
 },
 "nbformat": 4,
 "nbformat_minor": 2
}
