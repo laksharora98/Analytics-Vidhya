{
 "cells": [
  {
   "cell_type": "code",
   "execution_count": null,
   "metadata": {},
   "outputs": [
    {
     "ename": "",
     "evalue": "",
     "output_type": "error",
     "traceback": [
      "\u001b[1;31mFailed to start the Kernel. \n",
      "\u001b[1;31mTraceback (most recent call last):\n",
      "\u001b[1;31m  File \"/home/laksie98/.vscode/extensions/ms-toolsai.jupyter-2022.11.1003412109/pythonFiles/vscode_datascience_helpers/jupyter_daemon.py\", line 158, in _start_notebook\n",
      "\u001b[1;31m    from notebook import notebookapp as app\n",
      "\u001b[1;31m  File \"/home/laksie98/.local/lib/python3.8/site-packages/notebook/notebookapp.py\", line 80, in <module>\n",
      "\u001b[1;31m    from .services.contents.manager import ContentsManager\n",
      "\u001b[1;31m  File \"/home/laksie98/.local/lib/python3.8/site-packages/notebook/services/contents/manager.py\", line 17, in <module>\n",
      "\u001b[1;31m    from nbformat import sign, validate as validate_nb, ValidationError\n",
      "\u001b[1;31m  File \"/home/laksie98/.local/lib/python3.8/site-packages/nbformat/sign.py\", line 26, in <module>\n",
      "\u001b[1;31m    from traitlets import (\n",
      "\u001b[1;31mImportError: cannot import name 'Callable' from 'traitlets' (/usr/lib/python3/dist-packages/traitlets/__init__.py)\n",
      "\u001b[1;31m\n",
      "\u001b[1;31mDuring handling of the above exception, another exception occurred:\n",
      "\u001b[1;31m\n",
      "\u001b[1;31mTraceback (most recent call last):\n",
      "\u001b[1;31m  File \"/home/laksie98/.vscode/extensions/ms-toolsai.jupyter-2022.11.1003412109/pythonFiles/vscode_datascience_helpers/daemon/daemon_python.py\", line 54, in _decorator\n",
      "\u001b[1;31m    return func(self, *args, **kwargs)\n",
      "\u001b[1;31m  File \"/home/laksie98/.vscode/extensions/ms-toolsai.jupyter-2022.11.1003412109/pythonFiles/vscode_datascience_helpers/jupyter_daemon.py\", line 111, in m_exec_module_observable\n",
      "\u001b[1;31m    self._start_notebook(args, cwd, env)\n",
      "\u001b[1;31m  File \"/home/laksie98/.vscode/extensions/ms-toolsai.jupyter-2022.11.1003412109/pythonFiles/vscode_datascience_helpers/jupyter_daemon.py\", line 160, in _start_notebook\n",
      "\u001b[1;31m    from notebook import app as app\n",
      "\u001b[1;31mImportError: cannot import name 'app' from 'notebook' (/home/laksie98/.local/lib/python3.8/site-packages/notebook/__init__.py)\n",
      "\u001b[1;31m\n",
      "\u001b[1;31mFailed to run jupyter as observable with args notebook --no-browser --notebook-dir=\"/home/laksie98/gdrive/Data Science/Analytics Vidhya/Programs/Reinforcement Learning\" --config=/tmp/0aafa8d5-a382-4571-ad02-e6491686508d/jupyter_notebook_config.py --NotebookApp.iopub_data_rate_limit=10000000000.0. \n",
      "\u001b[1;31mView Jupyter <a href='command:jupyter.viewOutput'>log</a> for further details."
     ]
    }
   ],
   "source": [
    "import gym"
   ]
  },
  {
   "cell_type": "code",
   "execution_count": null,
   "metadata": {},
   "outputs": [
    {
     "ename": "",
     "evalue": "",
     "output_type": "error",
     "traceback": [
      "\u001b[1;31mFailed to start the Kernel. \n",
      "\u001b[1;31mTraceback (most recent call last):\n",
      "\u001b[1;31m  File \"/home/laksie98/.vscode/extensions/ms-toolsai.jupyter-2022.11.1003412109/pythonFiles/vscode_datascience_helpers/jupyter_daemon.py\", line 158, in _start_notebook\n",
      "\u001b[1;31m    from notebook import notebookapp as app\n",
      "\u001b[1;31m  File \"/home/laksie98/.local/lib/python3.8/site-packages/notebook/notebookapp.py\", line 80, in <module>\n",
      "\u001b[1;31m    from .services.contents.manager import ContentsManager\n",
      "\u001b[1;31m  File \"/home/laksie98/.local/lib/python3.8/site-packages/notebook/services/contents/manager.py\", line 17, in <module>\n",
      "\u001b[1;31m    from nbformat import sign, validate as validate_nb, ValidationError\n",
      "\u001b[1;31m  File \"/home/laksie98/.local/lib/python3.8/site-packages/nbformat/sign.py\", line 26, in <module>\n",
      "\u001b[1;31m    from traitlets import (\n",
      "\u001b[1;31mImportError: cannot import name 'Callable' from 'traitlets' (/usr/lib/python3/dist-packages/traitlets/__init__.py)\n",
      "\u001b[1;31m\n",
      "\u001b[1;31mDuring handling of the above exception, another exception occurred:\n",
      "\u001b[1;31m\n",
      "\u001b[1;31mTraceback (most recent call last):\n",
      "\u001b[1;31m  File \"/home/laksie98/.vscode/extensions/ms-toolsai.jupyter-2022.11.1003412109/pythonFiles/vscode_datascience_helpers/daemon/daemon_python.py\", line 54, in _decorator\n",
      "\u001b[1;31m    return func(self, *args, **kwargs)\n",
      "\u001b[1;31m  File \"/home/laksie98/.vscode/extensions/ms-toolsai.jupyter-2022.11.1003412109/pythonFiles/vscode_datascience_helpers/jupyter_daemon.py\", line 111, in m_exec_module_observable\n",
      "\u001b[1;31m    self._start_notebook(args, cwd, env)\n",
      "\u001b[1;31m  File \"/home/laksie98/.vscode/extensions/ms-toolsai.jupyter-2022.11.1003412109/pythonFiles/vscode_datascience_helpers/jupyter_daemon.py\", line 160, in _start_notebook\n",
      "\u001b[1;31m    from notebook import app as app\n",
      "\u001b[1;31mImportError: cannot import name 'app' from 'notebook' (/home/laksie98/.local/lib/python3.8/site-packages/notebook/__init__.py)\n",
      "\u001b[1;31m\n",
      "\u001b[1;31mFailed to run jupyter as observable with args notebook --no-browser --notebook-dir=\"/home/laksie98/gdrive/Data Science/Analytics Vidhya/Programs/Reinforcement Learning\" --config=/tmp/0aafa8d5-a382-4571-ad02-e6491686508d/jupyter_notebook_config.py --NotebookApp.iopub_data_rate_limit=10000000000.0. \n",
      "\u001b[1;31mView Jupyter <a href='command:jupyter.viewOutput'>log</a> for further details."
     ]
    }
   ],
   "source": [
    "env = gym.make('CartPole-v1', render_mode = 'human')\n",
    "\n",
    "for _ in range(20):\n",
    "    obs, info = env.reset()\n",
    "    for i in range(100):\n",
    "        obs, reward, term, trunc, info = env.step(env.action_space.sample())\n",
    "        if term or trunc:\n",
    "            break\n",
    "env.close()"
   ]
  },
  {
   "cell_type": "markdown",
   "metadata": {},
   "source": [
    "### Deep Q Network"
   ]
  },
  {
   "cell_type": "code",
   "execution_count": null,
   "metadata": {},
   "outputs": [
    {
     "ename": "",
     "evalue": "",
     "output_type": "error",
     "traceback": [
      "\u001b[1;31mFailed to start the Kernel. \n",
      "\u001b[1;31mTraceback (most recent call last):\n",
      "\u001b[1;31m  File \"/home/laksie98/.vscode/extensions/ms-toolsai.jupyter-2022.11.1003412109/pythonFiles/vscode_datascience_helpers/jupyter_daemon.py\", line 158, in _start_notebook\n",
      "\u001b[1;31m    from notebook import notebookapp as app\n",
      "\u001b[1;31m  File \"/home/laksie98/.local/lib/python3.8/site-packages/notebook/notebookapp.py\", line 80, in <module>\n",
      "\u001b[1;31m    from .services.contents.manager import ContentsManager\n",
      "\u001b[1;31m  File \"/home/laksie98/.local/lib/python3.8/site-packages/notebook/services/contents/manager.py\", line 17, in <module>\n",
      "\u001b[1;31m    from nbformat import sign, validate as validate_nb, ValidationError\n",
      "\u001b[1;31m  File \"/home/laksie98/.local/lib/python3.8/site-packages/nbformat/sign.py\", line 26, in <module>\n",
      "\u001b[1;31m    from traitlets import (\n",
      "\u001b[1;31mImportError: cannot import name 'Callable' from 'traitlets' (/usr/lib/python3/dist-packages/traitlets/__init__.py)\n",
      "\u001b[1;31m\n",
      "\u001b[1;31mDuring handling of the above exception, another exception occurred:\n",
      "\u001b[1;31m\n",
      "\u001b[1;31mTraceback (most recent call last):\n",
      "\u001b[1;31m  File \"/home/laksie98/.vscode/extensions/ms-toolsai.jupyter-2022.11.1003412109/pythonFiles/vscode_datascience_helpers/daemon/daemon_python.py\", line 54, in _decorator\n",
      "\u001b[1;31m    return func(self, *args, **kwargs)\n",
      "\u001b[1;31m  File \"/home/laksie98/.vscode/extensions/ms-toolsai.jupyter-2022.11.1003412109/pythonFiles/vscode_datascience_helpers/jupyter_daemon.py\", line 111, in m_exec_module_observable\n",
      "\u001b[1;31m    self._start_notebook(args, cwd, env)\n",
      "\u001b[1;31m  File \"/home/laksie98/.vscode/extensions/ms-toolsai.jupyter-2022.11.1003412109/pythonFiles/vscode_datascience_helpers/jupyter_daemon.py\", line 160, in _start_notebook\n",
      "\u001b[1;31m    from notebook import app as app\n",
      "\u001b[1;31mImportError: cannot import name 'app' from 'notebook' (/home/laksie98/.local/lib/python3.8/site-packages/notebook/__init__.py)\n",
      "\u001b[1;31m\n",
      "\u001b[1;31mFailed to run jupyter as observable with args notebook --no-browser --notebook-dir=\"/home/laksie98/gdrive/Data Science/Analytics Vidhya/Programs/Reinforcement Learning\" --config=/tmp/0aafa8d5-a382-4571-ad02-e6491686508d/jupyter_notebook_config.py --NotebookApp.iopub_data_rate_limit=10000000000.0. \n",
      "\u001b[1;31mView Jupyter <a href='command:jupyter.viewOutput'>log</a> for further details."
     ]
    }
   ],
   "source": []
  }
 ],
 "metadata": {
  "kernelspec": {
   "display_name": "AV",
   "language": "python",
   "name": "python3"
  },
  "language_info": {
   "codemirror_mode": {
    "name": "ipython",
    "version": 3
   },
   "file_extension": ".py",
   "mimetype": "text/x-python",
   "name": "python",
   "nbconvert_exporter": "python",
   "pygments_lexer": "ipython3",
   "version": "3.9.13 (main, Aug 25 2022, 23:26:10) \n[GCC 11.2.0]"
  },
  "orig_nbformat": 4,
  "vscode": {
   "interpreter": {
    "hash": "974aa72c7bd448a888e4e26aed6f1eae6abb768837843342a6c4f053b2c52d31"
   }
  }
 },
 "nbformat": 4,
 "nbformat_minor": 2
}
