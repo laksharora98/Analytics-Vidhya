{
 "cells": [
  {
   "cell_type": "markdown",
   "metadata": {
    "id": "rlKW2k6x7YS-"
   },
   "source": [
    "### Creating the frontend of the app using streamlit"
   ]
  },
  {
   "cell_type": "code",
   "execution_count": 2,
   "metadata": {
    "colab": {
     "base_uri": "https://localhost:8080/"
    },
    "executionInfo": {
     "elapsed": 1187,
     "status": "ok",
     "timestamp": 1616658025507,
     "user": {
      "displayName": "Subhash Meena",
      "photoUrl": "https://lh3.googleusercontent.com/a-/AOh14GjlYUo0RW8qCl-1gd9LR46qtyzQBuRLoySJAMrc=s64",
      "userId": "01461370006936346968"
     },
     "user_tz": -330
    },
    "id": "ZC4c6EMgRYX1",
    "outputId": "848164f3-a7a1-428f-8879-e09e2b46ac92"
   },
   "outputs": [
    {
     "name": "stdout",
     "output_type": "stream",
     "text": [
      "Writing app.py\n"
     ]
    }
   ],
   "source": [
    "%%writefile app.py\n",
    "\n",
    "# importing streamlit\n",
    "import streamlit as st\n",
    "  \n",
    "# this is the main function in which we define our app  \n",
    "def main():\n",
    "    # header of the page\n",
    "    st.markdown(\"Check your Loan Eligibility\") \n",
    "\n",
    "    # Loading the data\n",
    "      \n",
    "    # following lines create boxes in which user can enter data required to make prediction \n",
    "    Gender = st.selectbox('Gender',(\"Male\",\"Female\",\"Other\"))\n",
    "    Married = st.selectbox('Marital Status',(\"Unmarried\",\"Married\",\"Other\")) \n",
    "    ApplicantIncome = st.number_input(\"Monthly Income in Rupees\") \n",
    "    LoanAmount = st.number_input(\"Loan Amount in Rupees\")\n",
    "    result =\"\"\n",
    "      \n",
    "    # when 'Check' is clicked, make the prediction and store it \n",
    "    if st.button(\"Check\"): \n",
    "        result = prediction(Gender, Married, ApplicantIncome, LoanAmount) \n",
    "        st.success('Your loan is {}'.format(result))\n",
    "\n",
    "# defining the function which will make the prediction using the data which the user inputs \n",
    "def prediction(Gender, Married, ApplicantIncome, LoanAmount):\n",
    "\n",
    "    # Building the model to automate Loan Eligibility\n",
    "    if (ApplicantIncome < 20000):\n",
    "        loan_status = 'Rejected'\n",
    "    elif (LoanAmount > 600000):\n",
    "        loan_status = 'Rejected'\n",
    "    else:\n",
    "        loan_status = 'Approved'\n",
    "    return loan_status\n",
    "     \n",
    "if __name__=='__main__': \n",
    "    main()"
   ]
  },
  {
   "cell_type": "markdown",
   "metadata": {
    "id": "dWM7e9709d72"
   },
   "source": [
    "## 4. Deploying the application"
   ]
  },
  {
   "cell_type": "code",
   "execution_count": 5,
   "metadata": {
    "colab": {
     "base_uri": "https://localhost:8080/"
    },
    "executionInfo": {
     "elapsed": 3294,
     "status": "ok",
     "timestamp": 1616657970038,
     "user": {
      "displayName": "Subhash Meena",
      "photoUrl": "https://lh3.googleusercontent.com/a-/AOh14GjlYUo0RW8qCl-1gd9LR46qtyzQBuRLoySJAMrc=s64",
      "userId": "01461370006936346968"
     },
     "user_tz": -330
    },
    "id": "G93y3SeHgf6H",
    "outputId": "c6becae7-7184-46d9-fe3a-3141bd72397e"
   },
   "outputs": [
    {
     "name": "stdout",
     "output_type": "stream",
     "text": [
      "                                                                                                    \r"
     ]
    },
    {
     "name": "stderr",
     "output_type": "stream",
     "text": [
      "t=2022-11-22T17:59:20+0530 lvl=warn msg=\"failed to check for update\" obj=updater err=\"Post \\\"https://update.equinox.io/check\\\": context deadline exceeded\"\n"
     ]
    },
    {
     "data": {
      "text/plain": [
       "<NgrokTunnel: \"http://9810-49-36-216-217.ngrok.io\" -> \"http://localhost:8501\">"
      ]
     },
     "execution_count": 5,
     "metadata": {},
     "output_type": "execute_result"
    }
   ],
   "source": [
    "# making the locally-hosted web application to be publicly accessible\n",
    "from pyngrok import ngrok\n",
    "\n",
    "public_url = ngrok.connect('8501')\n",
    "public_url"
   ]
  },
  {
   "cell_type": "code",
   "execution_count": 7,
   "metadata": {
    "executionInfo": {
     "elapsed": 8783,
     "status": "aborted",
     "timestamp": 1616657934625,
     "user": {
      "displayName": "Subhash Meena",
      "photoUrl": "https://lh3.googleusercontent.com/a-/AOh14GjlYUo0RW8qCl-1gd9LR46qtyzQBuRLoySJAMrc=s64",
      "userId": "01461370006936346968"
     },
     "user_tz": -330
    },
    "id": "kTg-2Nar2Wsi"
   },
   "outputs": [],
   "source": [
    "ngrok.set_auth_token('2Hu1q1PIwyaGDYI0aZ5I6MRCEet_4ZkhiCoaS52qy2T5Chqxm')"
   ]
  },
  {
   "cell_type": "code",
   "execution_count": 9,
   "metadata": {},
   "outputs": [],
   "source": [
    "ngrok.kill()"
   ]
  },
  {
   "cell_type": "code",
   "execution_count": 11,
   "metadata": {},
   "outputs": [],
   "source": [
    "public_url = ngrok.connect('8501')"
   ]
  },
  {
   "cell_type": "code",
   "execution_count": 12,
   "metadata": {},
   "outputs": [
    {
     "data": {
      "text/plain": [
       "<NgrokTunnel: \"http://44e9-49-36-216-217.ngrok.io\" -> \"http://localhost:8501\">"
      ]
     },
     "execution_count": 12,
     "metadata": {},
     "output_type": "execute_result"
    }
   ],
   "source": [
    "public_url"
   ]
  }
 ],
 "metadata": {
  "accelerator": "GPU",
  "colab": {
   "collapsed_sections": [],
   "name": "3.5 Deploying rule based model using Streamlit",
   "provenance": [
    {
     "file_id": "1MOdsbJAguhIorTWuIfqhwv52uN4FEJ4s",
     "timestamp": 1610610665580
    }
   ]
  },
  "kernelspec": {
   "display_name": "Python 3 (ipykernel)",
   "language": "python",
   "name": "python3"
  },
  "language_info": {
   "codemirror_mode": {
    "name": "ipython",
    "version": 3
   },
   "file_extension": ".py",
   "mimetype": "text/x-python",
   "name": "python",
   "nbconvert_exporter": "python",
   "pygments_lexer": "ipython3",
   "version": "3.9.15"
  }
 },
 "nbformat": 4,
 "nbformat_minor": 1
}
